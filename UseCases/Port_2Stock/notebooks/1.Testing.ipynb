{
 "cells": [
  {
   "cell_type": "markdown",
   "metadata": {},
   "source": [
    "### TO DO:\n",
    "1. Data collection --> __Done__\n",
    "2. Create environment --> __Done__<br>\n",
    "2.1. Set up Action space (Discrete) --> __Done__ <br>\n",
    "2.2. Set up State space (Continuous) --> __Done__ <br>\n",
    "3. Develop RL Agent (DQN)\n"
   ]
  },
  {
   "cell_type": "markdown",
   "metadata": {},
   "source": [
    "### Challenges with RL:\n",
    "1. RL known to be divergent/ unstable when delaing with non linear approximators (such as NNs). \n",
    "<br>__Reason__: sequential updates.\n",
    "<br>__Solution__: \n",
    "    1. Experience replay (DQN)\n",
    "    2. Update action values periodically, rather than at every iteration, i.e. use 2 models. 1 Q network and other target network\n",
    "\n",
    "### Advantages of this model:\n",
    "1. __Model free__: No prior knowledge of environment needed. Samples are generated from emulator.\n",
    "2. __Off Policy__: Learns about the *greedy policy* while following epsilon-greedy policy"
   ]
  },
  {
   "cell_type": "code",
   "execution_count": 1,
   "metadata": {},
   "outputs": [],
   "source": [
    "import yfinance as yf\n",
    "import pandas as pd\n",
    "import numpy as np\n",
    "import random\n",
    "from datetime import datetime\n",
    "\n",
    "import warnings\n",
    "\n",
    "warnings.filterwarnings('ignore')"
   ]
  },
  {
   "cell_type": "code",
   "execution_count": 2,
   "metadata": {},
   "outputs": [
    {
     "name": "stdout",
     "output_type": "stream",
     "text": [
      "/Users/ankitgupta/Documents/git/anks/MachineLearning/ReinforcementLearning/UseCases/PortfolioManagement/notebooks\n"
     ]
    }
   ],
   "source": [
    "# set the environment path\n",
    "import os, sys\n",
    "cwd = os.getcwd()\n",
    "print(cwd)\n",
    "path = f'{cwd}/../lib'\n",
    "\n",
    "os.environ[\"PORT_MGMT_PATH\"] = path\n",
    "\n",
    "if os.environ[\"PORT_MGMT_PATH\"] not in sys.path:\n",
    "    sys.path.append(os.environ[\"PORT_MGMT_PATH\"])\n",
    "    \n",
    "    \n"
   ]
  },
  {
   "cell_type": "code",
   "execution_count": 3,
   "metadata": {},
   "outputs": [],
   "source": [
    "\n",
    "from logging.config import dictConfig\n",
    "import logging\n",
    "import loggingConfig\n",
    "\n",
    "\n",
    "dictConfig(loggingConfig.DEFAULT_LOGGING)\n",
    "Logger = logging.getLogger(\"Training\")\n",
    "\n",
    "\n",
    "\n",
    "\n"
   ]
  },
  {
   "cell_type": "code",
   "execution_count": 4,
   "metadata": {},
   "outputs": [],
   "source": [
    "import constants\n",
    "import Environments\n",
    "from importlib import reload\n",
    "\n",
    "import Actions\n",
    "from Actions.ActionSelection import EpsilonGreedy"
   ]
  },
  {
   "cell_type": "code",
   "execution_count": 5,
   "metadata": {},
   "outputs": [
    {
     "data": {
      "text/plain": [
       "<module 'Environments' from '/Users/ankitgupta/Documents/git/anks/MachineLearning/ReinforcementLearning/UseCases/PortfolioManagement/notebooks/../lib/Environments.py'>"
      ]
     },
     "execution_count": 5,
     "metadata": {},
     "output_type": "execute_result"
    }
   ],
   "source": [
    "reload(Environments)"
   ]
  },
  {
   "cell_type": "code",
   "execution_count": 6,
   "metadata": {},
   "outputs": [
    {
     "name": "stdout",
     "output_type": "stream",
     "text": [
      "2021-02-01 08:41:35 INFO     Environments    Data Loaded!\n",
      "2021-02-01 08:41:35 INFO     Actions         Action Space set with 7 possible actions \n",
      "2021-02-01 08:41:35 INFO     Environments    Environment reset\n"
     ]
    }
   ],
   "source": [
    "actions = [\n",
    "    [-0.01,0.01],\n",
    "    [-0.02,0.02],\n",
    "    [-0.03,0.03],\n",
    "    [0.01,-0.01],\n",
    "    [0.02,-0.02],\n",
    "    [0.03,-0.03],\n",
    "    [-0.00,0.00],\n",
    "]\n",
    "\n",
    "env = Environments.Portfolio(assets = [\"APA\", \"BMY\"], initialWeight = [0.5, 0.5], \\\n",
    "                 nhistoricalDays = 30, \\\n",
    "                 actions = actions)"
   ]
  },
  {
   "cell_type": "code",
   "execution_count": null,
   "metadata": {},
   "outputs": [],
   "source": []
  },
  {
   "cell_type": "code",
   "execution_count": 7,
   "metadata": {},
   "outputs": [
    {
     "data": {
      "text/plain": [
       "'\\nfor i in range(30):\\n    \\n    # take random action\\n    action = random.choice(actions)\\n    nextState, reward, dead = env.step(action = action)\\n'"
      ]
     },
     "execution_count": 7,
     "metadata": {},
     "output_type": "execute_result"
    }
   ],
   "source": [
    "\"\"\"\n",
    "for i in range(30):\n",
    "    \n",
    "    # take random action\n",
    "    action = random.choice(actions)\n",
    "    nextState, reward, dead = env.step(action = action)\n",
    "\"\"\"\n"
   ]
  },
  {
   "cell_type": "code",
   "execution_count": 8,
   "metadata": {},
   "outputs": [
    {
     "data": {
      "text/html": [
       "<div>\n",
       "<style scoped>\n",
       "    .dataframe tbody tr th:only-of-type {\n",
       "        vertical-align: middle;\n",
       "    }\n",
       "\n",
       "    .dataframe tbody tr th {\n",
       "        vertical-align: top;\n",
       "    }\n",
       "\n",
       "    .dataframe thead th {\n",
       "        text-align: right;\n",
       "    }\n",
       "</style>\n",
       "<table border=\"1\" class=\"dataframe\">\n",
       "  <thead>\n",
       "    <tr style=\"text-align: right;\">\n",
       "      <th></th>\n",
       "      <th>Date</th>\n",
       "      <th>Asset_APA</th>\n",
       "      <th>Asset_BMY</th>\n",
       "      <th>Cash</th>\n",
       "      <th>Cost</th>\n",
       "      <th>AUM</th>\n",
       "    </tr>\n",
       "  </thead>\n",
       "  <tbody>\n",
       "    <tr>\n",
       "      <th>0</th>\n",
       "      <td>2003-12-31</td>\n",
       "      <td>14946.0</td>\n",
       "      <td>32503.0</td>\n",
       "      <td>19823.51</td>\n",
       "      <td>196.0</td>\n",
       "      <td>999804.0</td>\n",
       "    </tr>\n",
       "  </tbody>\n",
       "</table>\n",
       "</div>"
      ],
      "text/plain": [
       "         Date  Asset_APA  Asset_BMY      Cash   Cost       AUM\n",
       "0  2003-12-31    14946.0    32503.0  19823.51  196.0  999804.0"
      ]
     },
     "execution_count": 8,
     "metadata": {},
     "output_type": "execute_result"
    }
   ],
   "source": [
    "env.portfolioHistory"
   ]
  },
  {
   "cell_type": "code",
   "execution_count": 9,
   "metadata": {},
   "outputs": [
    {
     "data": {
      "text/plain": [
       "999804.0"
      ]
     },
     "execution_count": 9,
     "metadata": {},
     "output_type": "execute_result"
    }
   ],
   "source": [
    "env.currentPortfolioValue"
   ]
  },
  {
   "cell_type": "code",
   "execution_count": 10,
   "metadata": {},
   "outputs": [],
   "source": [
    "agentConfig  = os.path.join(path, \"RLAGENTS_CONFIG.ini\" )\n",
    "#savePath    = os.path.join(os.environ[\"RL_PATH\"], \"models\" )\n"
   ]
  },
  {
   "cell_type": "code",
   "execution_count": 11,
   "metadata": {},
   "outputs": [],
   "source": [
    "import RLAgent"
   ]
  },
  {
   "cell_type": "code",
   "execution_count": 12,
   "metadata": {},
   "outputs": [
    {
     "data": {
      "text/plain": [
       "<module 'RLAgent' from '/Users/ankitgupta/Documents/git/anks/MachineLearning/ReinforcementLearning/UseCases/PortfolioManagement/notebooks/../lib/RLAgent.py'>"
      ]
     },
     "execution_count": 12,
     "metadata": {},
     "output_type": "execute_result"
    }
   ],
   "source": [
    "reload(RLAgent)"
   ]
  },
  {
   "cell_type": "code",
   "execution_count": 13,
   "metadata": {},
   "outputs": [
    {
     "ename": "TypeError",
     "evalue": "__init__() missing 2 required positional arguments: 'finalExploration' and 'nbIterations'",
     "output_type": "error",
     "traceback": [
      "\u001b[0;31m---------------------------------------------------------------------------\u001b[0m",
      "\u001b[0;31mTypeError\u001b[0m                                 Traceback (most recent call last)",
      "\u001b[0;32m<ipython-input-13-072531cba3c4>\u001b[0m in \u001b[0;36m<module>\u001b[0;34m\u001b[0m\n\u001b[0;32m----> 1\u001b[0;31m \u001b[0mDQNAgent\u001b[0m  \u001b[0;34m=\u001b[0m \u001b[0mRLAgent\u001b[0m\u001b[0;34m.\u001b[0m\u001b[0mDQN\u001b[0m\u001b[0;34m(\u001b[0m\u001b[0menv\u001b[0m \u001b[0;34m=\u001b[0m \u001b[0menv\u001b[0m\u001b[0;34m,\u001b[0m \u001b[0mconfigFile\u001b[0m \u001b[0;34m=\u001b[0m \u001b[0magentConfig\u001b[0m\u001b[0;34m)\u001b[0m\u001b[0;34m\u001b[0m\u001b[0;34m\u001b[0m\u001b[0m\n\u001b[0m",
      "\u001b[0;32m~/Documents/git/anks/MachineLearning/ReinforcementLearning/UseCases/PortfolioManagement/notebooks/../lib/RLAgent.py\u001b[0m in \u001b[0;36m__init__\u001b[0;34m(self, env, configFile, model, **kwargs)\u001b[0m\n\u001b[1;32m     95\u001b[0m \u001b[0;34m\u001b[0m\u001b[0m\n\u001b[1;32m     96\u001b[0m         \u001b[0;31m# Action selection method & model used\u001b[0m\u001b[0;34m\u001b[0m\u001b[0;34m\u001b[0m\u001b[0;34m\u001b[0m\u001b[0m\n\u001b[0;32m---> 97\u001b[0;31m         \u001b[0mself\u001b[0m\u001b[0;34m.\u001b[0m\u001b[0mexplore\u001b[0m            \u001b[0;34m=\u001b[0m \u001b[0mActionExploration\u001b[0m\u001b[0;34m(\u001b[0m\u001b[0mself\u001b[0m\u001b[0;34m.\u001b[0m\u001b[0mconfig\u001b[0m\u001b[0;34m,\u001b[0m \u001b[0mself\u001b[0m\u001b[0;34m.\u001b[0m\u001b[0mmethodExploration\u001b[0m\u001b[0;34m)\u001b[0m\u001b[0;34m\u001b[0m\u001b[0;34m\u001b[0m\u001b[0m\n\u001b[0m\u001b[1;32m     98\u001b[0m         \u001b[0mself\u001b[0m\u001b[0;34m.\u001b[0m\u001b[0m__time\u001b[0m             \u001b[0;34m=\u001b[0m \u001b[0mdatetime\u001b[0m\u001b[0;34m.\u001b[0m\u001b[0mnow\u001b[0m\u001b[0;34m(\u001b[0m\u001b[0;34m)\u001b[0m\u001b[0;34m.\u001b[0m\u001b[0mstrftime\u001b[0m\u001b[0;34m(\u001b[0m\u001b[0;34m\"%Y%m%d%H%M\"\u001b[0m\u001b[0;34m)\u001b[0m\u001b[0;34m\u001b[0m\u001b[0;34m\u001b[0m\u001b[0m\n\u001b[1;32m     99\u001b[0m \u001b[0;34m\u001b[0m\u001b[0m\n",
      "\u001b[0;32m~/Documents/git/anks/MachineLearning/ReinforcementLearning/UseCases/PortfolioManagement/notebooks/../lib/Actions/ActionSelection.py\u001b[0m in \u001b[0;36mActionExploration\u001b[0;34m(config, method)\u001b[0m\n\u001b[1;32m     22\u001b[0m     \"\"\"\n\u001b[1;32m     23\u001b[0m     \u001b[0;32mif\u001b[0m \u001b[0mmethod\u001b[0m\u001b[0;34m.\u001b[0m\u001b[0mupper\u001b[0m\u001b[0;34m(\u001b[0m\u001b[0;34m)\u001b[0m \u001b[0;34m==\u001b[0m \u001b[0;34m\"EPSILON_GREEDY\"\u001b[0m\u001b[0;34m:\u001b[0m\u001b[0;34m\u001b[0m\u001b[0;34m\u001b[0m\u001b[0m\n\u001b[0;32m---> 24\u001b[0;31m         \u001b[0;32mreturn\u001b[0m \u001b[0mEpsilonGreedy\u001b[0m\u001b[0;34m(\u001b[0m\u001b[0mconfig\u001b[0m\u001b[0;34m)\u001b[0m\u001b[0;34m\u001b[0m\u001b[0;34m\u001b[0m\u001b[0m\n\u001b[0m\u001b[1;32m     25\u001b[0m \u001b[0;34m\u001b[0m\u001b[0m\n\u001b[1;32m     26\u001b[0m     \u001b[0;32melif\u001b[0m \u001b[0mmethod\u001b[0m\u001b[0;34m.\u001b[0m\u001b[0mupper\u001b[0m\u001b[0;34m(\u001b[0m\u001b[0;34m)\u001b[0m \u001b[0;34m==\u001b[0m \u001b[0;34m\"UCB\"\u001b[0m\u001b[0;34m:\u001b[0m\u001b[0;34m\u001b[0m\u001b[0;34m\u001b[0m\u001b[0m\n",
      "\u001b[0;31mTypeError\u001b[0m: __init__() missing 2 required positional arguments: 'finalExploration' and 'nbIterations'"
     ]
    }
   ],
   "source": [
    "DQNAgent  = RLAgent.DQN(env = env, configFile = agentConfig)"
   ]
  },
  {
   "cell_type": "code",
   "execution_count": null,
   "metadata": {},
   "outputs": [],
   "source": [
    "\n",
    "# Run the model\n",
    "#savePath    = os.path.join(os.environ[\"RL_PATH\"], \"models\" )\n",
    "_time       = datetime.now().strftime(\"%Y%m%d%H%M\")\n",
    "\n"
   ]
  },
  {
   "cell_type": "code",
   "execution_count": null,
   "metadata": {},
   "outputs": [],
   "source": [
    "from tqdm import tqdm\n",
    "import random"
   ]
  },
  {
   "cell_type": "code",
   "execution_count": null,
   "metadata": {},
   "outputs": [],
   "source": [
    "\n",
    "\n",
    "Agent = DQNAgent\n",
    "\n"
   ]
  },
  {
   "cell_type": "code",
   "execution_count": null,
   "metadata": {},
   "outputs": [],
   "source": [
    "mode= \"TRAIN\""
   ]
  },
  {
   "cell_type": "code",
   "execution_count": 44,
   "metadata": {},
   "outputs": [
    {
     "name": "stdout",
     "output_type": "stream",
     "text": [
      "2021-01-21 17:20:51 INFO     Environments    Environment reset\n"
     ]
    }
   ],
   "source": [
    "env.reset()\n",
    "_currentState = env.currentState\n",
    "\n",
    "_episodicReward = 0\n",
    "_dead = False\n",
    "_thisstepsTaken = 0\n",
    "\n"
   ]
  },
  {
   "cell_type": "code",
   "execution_count": 50,
   "metadata": {},
   "outputs": [
    {
     "name": "stderr",
     "output_type": "stream",
     "text": [
      "  0%|          | 0/20 [00:00<?, ?it/s]"
     ]
    },
    {
     "name": "stdout",
     "output_type": "stream",
     "text": [
      "2021-01-21 17:23:15 INFO     Environments    Environment reset\n",
      "2021-01-21 17:23:15 INFO     Training        Episode: 0\n"
     ]
    },
    {
     "name": "stderr",
     "output_type": "stream",
     "text": [
      "  5%|▌         | 1/20 [00:42<13:31, 42.73s/it]"
     ]
    },
    {
     "name": "stdout",
     "output_type": "stream",
     "text": [
      "2021-01-21 17:23:58 INFO     Environments    Environment reset\n",
      "2021-01-21 17:23:58 INFO     Training        Episode: 1\n"
     ]
    },
    {
     "name": "stderr",
     "output_type": "stream",
     "text": [
      " 10%|█         | 2/20 [01:22<12:33, 41.85s/it]"
     ]
    },
    {
     "name": "stdout",
     "output_type": "stream",
     "text": [
      "2021-01-21 17:24:38 INFO     Environments    Environment reset\n",
      "2021-01-21 17:24:38 INFO     Training        Episode: 2\n"
     ]
    },
    {
     "name": "stderr",
     "output_type": "stream",
     "text": [
      " 15%|█▌        | 3/20 [02:02<11:43, 41.37s/it]"
     ]
    },
    {
     "name": "stdout",
     "output_type": "stream",
     "text": [
      "2021-01-21 17:25:18 INFO     Environments    Environment reset\n",
      "2021-01-21 17:25:18 INFO     Training        Episode: 3\n"
     ]
    },
    {
     "name": "stderr",
     "output_type": "stream",
     "text": [
      " 20%|██        | 4/20 [02:42<10:52, 40.80s/it]"
     ]
    },
    {
     "name": "stdout",
     "output_type": "stream",
     "text": [
      "2021-01-21 17:25:57 INFO     Environments    Environment reset\n",
      "2021-01-21 17:25:57 INFO     Training        Episode: 4\n"
     ]
    },
    {
     "name": "stderr",
     "output_type": "stream",
     "text": [
      " 25%|██▌       | 5/20 [03:21<10:06, 40.40s/it]"
     ]
    },
    {
     "name": "stdout",
     "output_type": "stream",
     "text": [
      "2021-01-21 17:26:37 INFO     Environments    Environment reset\n",
      "2021-01-21 17:26:37 INFO     Training        Episode: 5\n"
     ]
    },
    {
     "name": "stderr",
     "output_type": "stream",
     "text": [
      " 30%|███       | 6/20 [04:06<09:42, 41.63s/it]"
     ]
    },
    {
     "name": "stdout",
     "output_type": "stream",
     "text": [
      "2021-01-21 17:27:21 INFO     Environments    Environment reset\n",
      "2021-01-21 17:27:21 INFO     Training        Episode: 6\n"
     ]
    },
    {
     "name": "stderr",
     "output_type": "stream",
     "text": [
      " 35%|███▌      | 7/20 [04:45<08:53, 41.07s/it]"
     ]
    },
    {
     "name": "stdout",
     "output_type": "stream",
     "text": [
      "2021-01-21 17:28:01 INFO     Environments    Environment reset\n",
      "2021-01-21 17:28:01 INFO     Training        Episode: 7\n"
     ]
    },
    {
     "name": "stderr",
     "output_type": "stream",
     "text": [
      " 40%|████      | 8/20 [05:25<08:08, 40.67s/it]"
     ]
    },
    {
     "name": "stdout",
     "output_type": "stream",
     "text": [
      "2021-01-21 17:28:41 INFO     Environments    Environment reset\n",
      "2021-01-21 17:28:41 INFO     Training        Episode: 8\n"
     ]
    },
    {
     "name": "stderr",
     "output_type": "stream",
     "text": [
      " 45%|████▌     | 9/20 [06:26<08:32, 46.59s/it]"
     ]
    },
    {
     "name": "stdout",
     "output_type": "stream",
     "text": [
      "2021-01-21 17:29:41 INFO     Environments    Environment reset\n",
      "2021-01-21 17:29:41 INFO     Training        Episode: 9\n"
     ]
    },
    {
     "name": "stderr",
     "output_type": "stream",
     "text": [
      " 50%|█████     | 10/20 [07:18<08:04, 48.43s/it]"
     ]
    },
    {
     "name": "stdout",
     "output_type": "stream",
     "text": [
      "2021-01-21 17:30:34 INFO     Environments    Environment reset\n",
      "2021-01-21 17:30:34 INFO     Training        Episode: 10\n"
     ]
    },
    {
     "name": "stderr",
     "output_type": "stream",
     "text": [
      " 55%|█████▌    | 11/20 [08:02<07:02, 46.94s/it]"
     ]
    },
    {
     "name": "stdout",
     "output_type": "stream",
     "text": [
      "2021-01-21 17:31:17 INFO     Environments    Environment reset\n",
      "2021-01-21 17:31:17 INFO     Training        Episode: 11\n"
     ]
    },
    {
     "name": "stderr",
     "output_type": "stream",
     "text": [
      " 60%|██████    | 12/20 [08:44<06:03, 45.39s/it]"
     ]
    },
    {
     "name": "stdout",
     "output_type": "stream",
     "text": [
      "2021-01-21 17:31:59 INFO     Environments    Environment reset\n",
      "2021-01-21 17:31:59 INFO     Training        Episode: 12\n"
     ]
    },
    {
     "name": "stderr",
     "output_type": "stream",
     "text": [
      " 65%|██████▌   | 13/20 [09:24<05:06, 43.84s/it]"
     ]
    },
    {
     "name": "stdout",
     "output_type": "stream",
     "text": [
      "2021-01-21 17:32:39 INFO     Environments    Environment reset\n",
      "2021-01-21 17:32:39 INFO     Training        Episode: 13\n"
     ]
    },
    {
     "name": "stderr",
     "output_type": "stream",
     "text": [
      " 70%|███████   | 14/20 [10:03<04:15, 42.58s/it]"
     ]
    },
    {
     "name": "stdout",
     "output_type": "stream",
     "text": [
      "2021-01-21 17:33:19 INFO     Environments    Environment reset\n",
      "2021-01-21 17:33:19 INFO     Training        Episode: 14\n"
     ]
    },
    {
     "name": "stderr",
     "output_type": "stream",
     "text": [
      " 75%|███████▌  | 15/20 [10:43<03:28, 41.76s/it]"
     ]
    },
    {
     "name": "stdout",
     "output_type": "stream",
     "text": [
      "2021-01-21 17:33:59 INFO     Environments    Environment reset\n",
      "2021-01-21 17:33:59 INFO     Training        Episode: 15\n"
     ]
    },
    {
     "name": "stderr",
     "output_type": "stream",
     "text": [
      " 80%|████████  | 16/20 [11:23<02:44, 41.25s/it]"
     ]
    },
    {
     "name": "stdout",
     "output_type": "stream",
     "text": [
      "2021-01-21 17:34:39 INFO     Environments    Environment reset\n",
      "2021-01-21 17:34:39 INFO     Training        Episode: 16\n"
     ]
    },
    {
     "name": "stderr",
     "output_type": "stream",
     "text": [
      " 85%|████████▌ | 17/20 [12:02<02:01, 40.60s/it]"
     ]
    },
    {
     "name": "stdout",
     "output_type": "stream",
     "text": [
      "2021-01-21 17:35:18 INFO     Environments    Environment reset\n",
      "2021-01-21 17:35:18 INFO     Training        Episode: 17\n"
     ]
    },
    {
     "name": "stderr",
     "output_type": "stream",
     "text": [
      " 90%|█████████ | 18/20 [12:42<01:20, 40.25s/it]"
     ]
    },
    {
     "name": "stdout",
     "output_type": "stream",
     "text": [
      "2021-01-21 17:35:57 INFO     Environments    Environment reset\n",
      "2021-01-21 17:35:57 INFO     Training        Episode: 18\n"
     ]
    },
    {
     "name": "stderr",
     "output_type": "stream",
     "text": [
      " 95%|█████████▌| 19/20 [13:21<00:39, 39.99s/it]"
     ]
    },
    {
     "name": "stdout",
     "output_type": "stream",
     "text": [
      "2021-01-21 17:36:37 INFO     Environments    Environment reset\n",
      "2021-01-21 17:36:37 INFO     Training        Episode: 19\n"
     ]
    },
    {
     "name": "stderr",
     "output_type": "stream",
     "text": [
      "100%|██████████| 20/20 [15:59<00:00, 47.97s/it]\n"
     ]
    }
   ],
   "source": [
    "\n",
    "loss = []\n",
    "mode = \"TRAIN\"\n",
    "count = 0\n",
    "nbEpisodes = 20\n",
    "for _thisepisode in tqdm(range(nbEpisodes)):\n",
    "\n",
    "    # reset the environment\n",
    "    env.reset()\n",
    "    _currentState = env.currentState\n",
    "    \n",
    "    _episodicReward = 0\n",
    "    _dead = False\n",
    "    _thisstepsTaken = 0\n",
    "    Logger.info(f\"Episode: {_thisepisode}\")\n",
    "\n",
    "    #Agent.Tensorboard.step = _thisepisode\n",
    "        \n",
    "\n",
    "    while not _dead:\n",
    "\n",
    "        # get the action from agent\n",
    "        actionIndex = Agent.getAction(_currentState, mode = mode)\n",
    "        action = Agent.env.action_space.actions[actionIndex]\n",
    "        \n",
    "\n",
    "        # perform the action\n",
    "        _nextState, _reward, _dead = env.step(action)\n",
    "\n",
    "        # record into memory\n",
    "        Agent.updateMemory(_currentState, actionIndex, _reward, _nextState, _dead)\n",
    "\n",
    "        # train the agent and update the state\n",
    "        Agent.trainAgent(_dead, batch_size = Agent.Qmodel.batchSize)\n",
    "        if count == 100:\n",
    "            mymemory = Agent.memory.copy()\n",
    "            myloss = Agent.callbacks[1]\n",
    "            mymodel = Agent.Qmodel.model\n",
    "        \n",
    "        \n",
    "        # update States\n",
    "        _currentState = _nextState\n",
    "        _thisstepsTaken += 1\n",
    "        count += 1\n",
    "\n",
    "        _episodicReward += _reward\n",
    "\n",
    "        # if game over, then exit the loop\n",
    "        if _dead == True:\n",
    "            break   \n",
    "\n",
    "\n",
    "    # ---- For logging ------\n",
    "    # In case of Neural networks, create tensorboard flow\n",
    "    #Agent.updateLoggerInfo(episodeCount = _thisepisode, episodicReward = _episodicReward, \\\n",
    "    #                        episodicStepsTaken = _thisstepsTaken, mode = \"TRAIN\")\n",
    "\n"
   ]
  },
  {
   "cell_type": "code",
   "execution_count": 48,
   "metadata": {},
   "outputs": [
    {
     "data": {
      "text/plain": [
       "{'loss': [12.21529769897461], 'mean_squared_error': [12.215298]}"
      ]
     },
     "execution_count": 48,
     "metadata": {},
     "output_type": "execute_result"
    }
   ],
   "source": [
    "myloss.history"
   ]
  },
  {
   "cell_type": "code",
   "execution_count": 49,
   "metadata": {},
   "outputs": [
    {
     "data": {
      "text/plain": [
       "100"
      ]
     },
     "execution_count": 49,
     "metadata": {},
     "output_type": "execute_result"
    }
   ],
   "source": [
    "len(mymemory)"
   ]
  },
  {
   "cell_type": "code",
   "execution_count": null,
   "metadata": {},
   "outputs": [],
   "source": []
  },
  {
   "cell_type": "code",
   "execution_count": null,
   "metadata": {},
   "outputs": [],
   "source": []
  },
  {
   "cell_type": "code",
   "execution_count": 51,
   "metadata": {},
   "outputs": [
    {
     "data": {
      "text/html": [
       "<div>\n",
       "<style scoped>\n",
       "    .dataframe tbody tr th:only-of-type {\n",
       "        vertical-align: middle;\n",
       "    }\n",
       "\n",
       "    .dataframe tbody tr th {\n",
       "        vertical-align: top;\n",
       "    }\n",
       "\n",
       "    .dataframe thead th {\n",
       "        text-align: right;\n",
       "    }\n",
       "</style>\n",
       "<table border=\"1\" class=\"dataframe\">\n",
       "  <thead>\n",
       "    <tr style=\"text-align: right;\">\n",
       "      <th></th>\n",
       "      <th>Date</th>\n",
       "      <th>Asset_APA</th>\n",
       "      <th>Asset_BMY</th>\n",
       "      <th>Cash</th>\n",
       "      <th>Cost</th>\n",
       "      <th>AUM</th>\n",
       "    </tr>\n",
       "  </thead>\n",
       "  <tbody>\n",
       "    <tr>\n",
       "      <th>0</th>\n",
       "      <td>2003-12-31</td>\n",
       "      <td>14946.0</td>\n",
       "      <td>32503.0</td>\n",
       "      <td>19823.51</td>\n",
       "      <td>196.00</td>\n",
       "      <td>9.998040e+05</td>\n",
       "    </tr>\n",
       "    <tr>\n",
       "      <th>1</th>\n",
       "      <td>2004-01-02</td>\n",
       "      <td>14641.0</td>\n",
       "      <td>33166.0</td>\n",
       "      <td>19819.51</td>\n",
       "      <td>4.00</td>\n",
       "      <td>1.008764e+06</td>\n",
       "    </tr>\n",
       "    <tr>\n",
       "      <th>2</th>\n",
       "      <td>2004-01-05</td>\n",
       "      <td>15572.0</td>\n",
       "      <td>31210.0</td>\n",
       "      <td>19807.40</td>\n",
       "      <td>12.11</td>\n",
       "      <td>1.014572e+06</td>\n",
       "    </tr>\n",
       "    <tr>\n",
       "      <th>3</th>\n",
       "      <td>2004-01-06</td>\n",
       "      <td>15572.0</td>\n",
       "      <td>31210.0</td>\n",
       "      <td>19807.40</td>\n",
       "      <td>0.00</td>\n",
       "      <td>1.019141e+06</td>\n",
       "    </tr>\n",
       "    <tr>\n",
       "      <th>4</th>\n",
       "      <td>2004-01-07</td>\n",
       "      <td>15264.0</td>\n",
       "      <td>31868.0</td>\n",
       "      <td>19803.32</td>\n",
       "      <td>4.08</td>\n",
       "      <td>1.019902e+06</td>\n",
       "    </tr>\n",
       "    <tr>\n",
       "      <th>...</th>\n",
       "      <td>...</td>\n",
       "      <td>...</td>\n",
       "      <td>...</td>\n",
       "      <td>...</td>\n",
       "      <td>...</td>\n",
       "      <td>...</td>\n",
       "    </tr>\n",
       "    <tr>\n",
       "      <th>4272</th>\n",
       "      <td>2020-12-18</td>\n",
       "      <td>119858.0</td>\n",
       "      <td>-487.0</td>\n",
       "      <td>-76233.91</td>\n",
       "      <td>7.12</td>\n",
       "      <td>1.730450e+06</td>\n",
       "    </tr>\n",
       "    <tr>\n",
       "      <th>4273</th>\n",
       "      <td>2020-12-21</td>\n",
       "      <td>117600.0</td>\n",
       "      <td>61.0</td>\n",
       "      <td>-76247.75</td>\n",
       "      <td>13.84</td>\n",
       "      <td>1.673895e+06</td>\n",
       "    </tr>\n",
       "    <tr>\n",
       "      <th>4274</th>\n",
       "      <td>2020-12-22</td>\n",
       "      <td>116473.0</td>\n",
       "      <td>331.0</td>\n",
       "      <td>-76254.45</td>\n",
       "      <td>6.70</td>\n",
       "      <td>1.588678e+06</td>\n",
       "    </tr>\n",
       "    <tr>\n",
       "      <th>4275</th>\n",
       "      <td>2020-12-23</td>\n",
       "      <td>115348.0</td>\n",
       "      <td>590.0</td>\n",
       "      <td>-76260.80</td>\n",
       "      <td>6.35</td>\n",
       "      <td>1.664573e+06</td>\n",
       "    </tr>\n",
       "    <tr>\n",
       "      <th>4276</th>\n",
       "      <td>2020-12-24</td>\n",
       "      <td>114222.0</td>\n",
       "      <td>863.0</td>\n",
       "      <td>-76267.46</td>\n",
       "      <td>6.66</td>\n",
       "      <td>1.624728e+06</td>\n",
       "    </tr>\n",
       "  </tbody>\n",
       "</table>\n",
       "<p>4277 rows × 6 columns</p>\n",
       "</div>"
      ],
      "text/plain": [
       "            Date  Asset_APA  Asset_BMY      Cash    Cost           AUM\n",
       "0     2003-12-31    14946.0    32503.0  19823.51  196.00  9.998040e+05\n",
       "1     2004-01-02    14641.0    33166.0  19819.51    4.00  1.008764e+06\n",
       "2     2004-01-05    15572.0    31210.0  19807.40   12.11  1.014572e+06\n",
       "3     2004-01-06    15572.0    31210.0  19807.40    0.00  1.019141e+06\n",
       "4     2004-01-07    15264.0    31868.0  19803.32    4.08  1.019902e+06\n",
       "...          ...        ...        ...       ...     ...           ...\n",
       "4272  2020-12-18   119858.0     -487.0 -76233.91    7.12  1.730450e+06\n",
       "4273  2020-12-21   117600.0       61.0 -76247.75   13.84  1.673895e+06\n",
       "4274  2020-12-22   116473.0      331.0 -76254.45    6.70  1.588678e+06\n",
       "4275  2020-12-23   115348.0      590.0 -76260.80    6.35  1.664573e+06\n",
       "4276  2020-12-24   114222.0      863.0 -76267.46    6.66  1.624728e+06\n",
       "\n",
       "[4277 rows x 6 columns]"
      ]
     },
     "execution_count": 51,
     "metadata": {},
     "output_type": "execute_result"
    }
   ],
   "source": [
    "Agent.env.portfolioHistory"
   ]
  },
  {
   "cell_type": "code",
   "execution_count": null,
   "metadata": {},
   "outputs": [],
   "source": [
    "# lets run the model now on a new episode. "
   ]
  },
  {
   "cell_type": "code",
   "execution_count": 56,
   "metadata": {},
   "outputs": [
    {
     "name": "stdout",
     "output_type": "stream",
     "text": [
      "2021-01-21 17:45:40 INFO     Environments    Environment reset\n"
     ]
    }
   ],
   "source": [
    "env.reset()\n",
    "_currentState = env.currentState\n",
    "\n",
    "_episodicReward = 0\n",
    "_dead = False\n",
    "_thisstepsTaken = 0\n",
    "\n",
    "#Agent.Tensorboard.step = _thisepisode\n",
    "mode = \"TEST\"\n",
    "\n",
    "while not _dead:\n",
    "\n",
    "    # get the action from agent\n",
    "    \n",
    "    state = np.array(_currentState).reshape(1, Agent.env.observation_space.n)\n",
    "    _actionsValues      = Agent.Qmodel.predict(state)[0] \n",
    "    actionIndex  = np.argmax(_actionsValues)\n",
    "    \n",
    "\n",
    "    \n",
    "    #actionIndex = Agent.getAction(_currentState, mode = mode)\n",
    "    action = Agent.env.action_space.actions[actionIndex]\n",
    "\n",
    "\n",
    "    # perform the action\n",
    "    _nextState, _reward, _dead = env.step(action)\n",
    "\n",
    "    #update state and \n",
    "\n",
    "\n",
    "    # update States\n",
    "    _currentState = _nextState\n",
    "    _thisstepsTaken += 1\n",
    "    count += 1\n",
    "\n",
    "    _episodicReward += _reward\n",
    "\n",
    "    # if game over, then exit the loop\n",
    "    if _dead == True:\n",
    "        break   \n"
   ]
  },
  {
   "cell_type": "code",
   "execution_count": 57,
   "metadata": {},
   "outputs": [
    {
     "data": {
      "text/html": [
       "<div>\n",
       "<style scoped>\n",
       "    .dataframe tbody tr th:only-of-type {\n",
       "        vertical-align: middle;\n",
       "    }\n",
       "\n",
       "    .dataframe tbody tr th {\n",
       "        vertical-align: top;\n",
       "    }\n",
       "\n",
       "    .dataframe thead th {\n",
       "        text-align: right;\n",
       "    }\n",
       "</style>\n",
       "<table border=\"1\" class=\"dataframe\">\n",
       "  <thead>\n",
       "    <tr style=\"text-align: right;\">\n",
       "      <th></th>\n",
       "      <th>Date</th>\n",
       "      <th>Asset_APA</th>\n",
       "      <th>Asset_BMY</th>\n",
       "      <th>Cash</th>\n",
       "      <th>Cost</th>\n",
       "      <th>AUM</th>\n",
       "    </tr>\n",
       "  </thead>\n",
       "  <tbody>\n",
       "    <tr>\n",
       "      <th>0</th>\n",
       "      <td>2003-12-31</td>\n",
       "      <td>14946.0</td>\n",
       "      <td>32503.0</td>\n",
       "      <td>19823.51</td>\n",
       "      <td>196.00</td>\n",
       "      <td>9.998040e+05</td>\n",
       "    </tr>\n",
       "    <tr>\n",
       "      <th>1</th>\n",
       "      <td>2004-01-02</td>\n",
       "      <td>14641.0</td>\n",
       "      <td>33166.0</td>\n",
       "      <td>19819.51</td>\n",
       "      <td>4.00</td>\n",
       "      <td>1.008764e+06</td>\n",
       "    </tr>\n",
       "    <tr>\n",
       "      <th>2</th>\n",
       "      <td>2004-01-05</td>\n",
       "      <td>14331.0</td>\n",
       "      <td>33818.0</td>\n",
       "      <td>19815.47</td>\n",
       "      <td>4.04</td>\n",
       "      <td>1.013888e+06</td>\n",
       "    </tr>\n",
       "    <tr>\n",
       "      <th>3</th>\n",
       "      <td>2004-01-06</td>\n",
       "      <td>14023.0</td>\n",
       "      <td>34475.0</td>\n",
       "      <td>19811.41</td>\n",
       "      <td>4.06</td>\n",
       "      <td>1.018447e+06</td>\n",
       "    </tr>\n",
       "    <tr>\n",
       "      <th>4</th>\n",
       "      <td>2004-01-07</td>\n",
       "      <td>13715.0</td>\n",
       "      <td>35132.0</td>\n",
       "      <td>19807.34</td>\n",
       "      <td>4.07</td>\n",
       "      <td>1.019800e+06</td>\n",
       "    </tr>\n",
       "    <tr>\n",
       "      <th>...</th>\n",
       "      <td>...</td>\n",
       "      <td>...</td>\n",
       "      <td>...</td>\n",
       "      <td>...</td>\n",
       "      <td>...</td>\n",
       "      <td>...</td>\n",
       "    </tr>\n",
       "    <tr>\n",
       "      <th>4272</th>\n",
       "      <td>2020-12-18</td>\n",
       "      <td>493279222.0</td>\n",
       "      <td>-122900708.0</td>\n",
       "      <td>-3610854.48</td>\n",
       "      <td>317.31</td>\n",
       "      <td>-1.991330e+08</td>\n",
       "    </tr>\n",
       "    <tr>\n",
       "      <th>4273</th>\n",
       "      <td>2020-12-21</td>\n",
       "      <td>493409120.0</td>\n",
       "      <td>-122932256.0</td>\n",
       "      <td>-3611651.01</td>\n",
       "      <td>796.53</td>\n",
       "      <td>-2.995150e+08</td>\n",
       "    </tr>\n",
       "    <tr>\n",
       "      <th>4274</th>\n",
       "      <td>2020-12-22</td>\n",
       "      <td>493610814.0</td>\n",
       "      <td>-122980557.0</td>\n",
       "      <td>-3612849.07</td>\n",
       "      <td>1198.06</td>\n",
       "      <td>-5.885239e+08</td>\n",
       "    </tr>\n",
       "    <tr>\n",
       "      <th>4275</th>\n",
       "      <td>2020-12-23</td>\n",
       "      <td>494027616.0</td>\n",
       "      <td>-123076361.0</td>\n",
       "      <td>-3615203.17</td>\n",
       "      <td>2354.10</td>\n",
       "      <td>-2.095452e+08</td>\n",
       "    </tr>\n",
       "    <tr>\n",
       "      <th>4276</th>\n",
       "      <td>2020-12-24</td>\n",
       "      <td>494169392.0</td>\n",
       "      <td>-123110713.0</td>\n",
       "      <td>-3616041.35</td>\n",
       "      <td>838.18</td>\n",
       "      <td>-4.009719e+08</td>\n",
       "    </tr>\n",
       "  </tbody>\n",
       "</table>\n",
       "<p>4277 rows × 6 columns</p>\n",
       "</div>"
      ],
      "text/plain": [
       "            Date    Asset_APA    Asset_BMY        Cash     Cost           AUM\n",
       "0     2003-12-31      14946.0      32503.0    19823.51   196.00  9.998040e+05\n",
       "1     2004-01-02      14641.0      33166.0    19819.51     4.00  1.008764e+06\n",
       "2     2004-01-05      14331.0      33818.0    19815.47     4.04  1.013888e+06\n",
       "3     2004-01-06      14023.0      34475.0    19811.41     4.06  1.018447e+06\n",
       "4     2004-01-07      13715.0      35132.0    19807.34     4.07  1.019800e+06\n",
       "...          ...          ...          ...         ...      ...           ...\n",
       "4272  2020-12-18  493279222.0 -122900708.0 -3610854.48   317.31 -1.991330e+08\n",
       "4273  2020-12-21  493409120.0 -122932256.0 -3611651.01   796.53 -2.995150e+08\n",
       "4274  2020-12-22  493610814.0 -122980557.0 -3612849.07  1198.06 -5.885239e+08\n",
       "4275  2020-12-23  494027616.0 -123076361.0 -3615203.17  2354.10 -2.095452e+08\n",
       "4276  2020-12-24  494169392.0 -123110713.0 -3616041.35   838.18 -4.009719e+08\n",
       "\n",
       "[4277 rows x 6 columns]"
      ]
     },
     "execution_count": 57,
     "metadata": {},
     "output_type": "execute_result"
    }
   ],
   "source": [
    "Agent.env.portfolioHistory"
   ]
  },
  {
   "cell_type": "code",
   "execution_count": null,
   "metadata": {},
   "outputs": [],
   "source": []
  },
  {
   "cell_type": "code",
   "execution_count": null,
   "metadata": {},
   "outputs": [],
   "source": []
  },
  {
   "cell_type": "code",
   "execution_count": null,
   "metadata": {},
   "outputs": [],
   "source": []
  },
  {
   "cell_type": "code",
   "execution_count": 143,
   "metadata": {},
   "outputs": [
    {
     "data": {
      "text/plain": [
       "1"
      ]
     },
     "execution_count": 143,
     "metadata": {},
     "output_type": "execute_result"
    }
   ],
   "source": [
    "np.random.binomial(1, 1)"
   ]
  },
  {
   "cell_type": "code",
   "execution_count": 166,
   "metadata": {},
   "outputs": [
    {
     "data": {
      "text/plain": [
       "{1: 1343, 2: 1353, 5: 1405, 6: 1338, 3: 1319, 4: 1398, 0: 1844}"
      ]
     },
     "execution_count": 166,
     "metadata": {},
     "output_type": "execute_result"
    }
   ],
   "source": [
    "_dict = {}\n",
    "_currentState = Agent.env.currentState\n",
    "for i in range(10000):\n",
    "    action = Agent.getAction(_currentState, mode = mode)\n",
    "    try:\n",
    "        _dict[action]\n",
    "    except KeyError:\n",
    "        _dict[action] = 0\n",
    "    \n",
    "    _dict[action] += 1\n",
    "    \n",
    "_dict"
   ]
  },
  {
   "cell_type": "code",
   "execution_count": 31,
   "metadata": {},
   "outputs": [
    {
     "data": {
      "text/plain": [
       "64"
      ]
     },
     "execution_count": 31,
     "metadata": {},
     "output_type": "execute_result"
    }
   ],
   "source": [
    "len(Agent.memory[0][0])"
   ]
  },
  {
   "cell_type": "code",
   "execution_count": 26,
   "metadata": {},
   "outputs": [
    {
     "data": {
      "text/plain": [
       "2349.029930391902"
      ]
     },
     "execution_count": 26,
     "metadata": {},
     "output_type": "execute_result"
    }
   ],
   "source": [
    "# lets test it out\n"
   ]
  },
  {
   "cell_type": "code",
   "execution_count": 14,
   "metadata": {},
   "outputs": [
    {
     "ename": "NameError",
     "evalue": "name 'tqdm' is not defined",
     "output_type": "error",
     "traceback": [
      "\u001b[0;31m---------------------------------------------------------------------------\u001b[0m",
      "\u001b[0;31mNameError\u001b[0m                                 Traceback (most recent call last)",
      "\u001b[0;32m<ipython-input-14-12b39dd0e738>\u001b[0m in \u001b[0;36m<module>\u001b[0;34m\u001b[0m\n\u001b[1;32m      1\u001b[0m \u001b[0mloss\u001b[0m \u001b[0;34m=\u001b[0m \u001b[0;34m[\u001b[0m\u001b[0;34m]\u001b[0m\u001b[0;34m\u001b[0m\u001b[0;34m\u001b[0m\u001b[0m\n\u001b[1;32m      2\u001b[0m \u001b[0mmode\u001b[0m \u001b[0;34m=\u001b[0m \u001b[0;34m\"TEST\"\u001b[0m\u001b[0;34m\u001b[0m\u001b[0;34m\u001b[0m\u001b[0m\n\u001b[0;32m----> 3\u001b[0;31m \u001b[0;32mfor\u001b[0m \u001b[0m_thisepisode\u001b[0m \u001b[0;32min\u001b[0m \u001b[0mtqdm\u001b[0m\u001b[0;34m(\u001b[0m\u001b[0mrange\u001b[0m\u001b[0;34m(\u001b[0m\u001b[0mAgent\u001b[0m\u001b[0;34m.\u001b[0m\u001b[0mNbEpisodesTest\u001b[0m\u001b[0;34m)\u001b[0m\u001b[0;34m)\u001b[0m\u001b[0;34m:\u001b[0m\u001b[0;34m\u001b[0m\u001b[0;34m\u001b[0m\u001b[0m\n\u001b[0m\u001b[1;32m      4\u001b[0m \u001b[0;34m\u001b[0m\u001b[0m\n\u001b[1;32m      5\u001b[0m     \u001b[0;31m# reset the environment\u001b[0m\u001b[0;34m\u001b[0m\u001b[0;34m\u001b[0m\u001b[0;34m\u001b[0m\u001b[0m\n",
      "\u001b[0;31mNameError\u001b[0m: name 'tqdm' is not defined"
     ]
    }
   ],
   "source": [
    "loss = []\n",
    "mode = \"TEST\"\n",
    "for _thisepisode in tqdm(range(Agent.NbEpisodesTest)):\n",
    "\n",
    "    # reset the environment\n",
    "    env.reset()\n",
    "    _currentState = env.currentState\n",
    "    \n",
    "    _episodicReward = 0\n",
    "    _dead = False\n",
    "    _thisstepsTaken = 0\n",
    "    Logger.info(f\"Episode: {_thisepisode+1}\")\n",
    "\n",
    "    #Agent.Tensorboard.step = _thisepisode\n",
    "        \n",
    "\n",
    "    while not _dead:\n",
    "\n",
    "        # get the action from agent\n",
    "        action = Agent.getAction(_currentState, mode = mode)\n",
    "        \n",
    "\n",
    "        # perform the action\n",
    "        _nextState, _reward, _dead = env.step(action)\n",
    "\n",
    "        # record into memory\n",
    "        #Agent.updateMemory(_currentState, action, _reward, _nextState, _dead)\n",
    "\n",
    "        # train the agent and update the state\n",
    "        \"\"\"\n",
    "        history = Agent.trainAgent(batch_size = Agent.Qmodel.batchSize)\n",
    "        if history  is not None:\n",
    "            loss.append(history.history[\"loss\"])\n",
    "        \"\"\"\n",
    "        #Agent.trainAgent(_dead, batch_size = Agent.Qmodel.batchSize)\n",
    "        \n",
    "        # update States\n",
    "        _currentState = _nextState\n",
    "        _thisstepsTaken += 1\n",
    "\n",
    "        _episodicReward += _reward\n",
    "\n",
    "        # if game over, then exit the loop\n",
    "        if _dead == True:\n",
    "            break   \n",
    "\n",
    "\n",
    "    # ---- For logging ------\n",
    "    # In case of Neural networks, create tensorboard flow\n",
    "    #Agent.updateLoggerInfo(episodeCount = _thisepisode, episodicReward = _episodicReward, \\\n",
    "    #                        episodicStepsTaken = _thisstepsTaken, mode = \"TRAIN\")\n",
    "\n"
   ]
  },
  {
   "cell_type": "code",
   "execution_count": null,
   "metadata": {},
   "outputs": [],
   "source": []
  },
  {
   "cell_type": "code",
   "execution_count": 42,
   "metadata": {},
   "outputs": [
    {
     "data": {
      "text/html": [
       "<div>\n",
       "<style scoped>\n",
       "    .dataframe tbody tr th:only-of-type {\n",
       "        vertical-align: middle;\n",
       "    }\n",
       "\n",
       "    .dataframe tbody tr th {\n",
       "        vertical-align: top;\n",
       "    }\n",
       "\n",
       "    .dataframe thead th {\n",
       "        text-align: right;\n",
       "    }\n",
       "</style>\n",
       "<table border=\"1\" class=\"dataframe\">\n",
       "  <thead>\n",
       "    <tr style=\"text-align: right;\">\n",
       "      <th></th>\n",
       "      <th>Date</th>\n",
       "      <th>Asset_APA</th>\n",
       "      <th>Asset_BMY</th>\n",
       "      <th>Cash</th>\n",
       "      <th>Cost</th>\n",
       "      <th>AUM</th>\n",
       "    </tr>\n",
       "  </thead>\n",
       "  <tbody>\n",
       "    <tr>\n",
       "      <th>0</th>\n",
       "      <td>2003-12-31</td>\n",
       "      <td>14946.0</td>\n",
       "      <td>32503.0</td>\n",
       "      <td>19823.51</td>\n",
       "      <td>196.0</td>\n",
       "      <td>9.998040e+05</td>\n",
       "    </tr>\n",
       "    <tr>\n",
       "      <th>1</th>\n",
       "      <td>2004-01-02</td>\n",
       "      <td>14946.0</td>\n",
       "      <td>32503.0</td>\n",
       "      <td>19823.51</td>\n",
       "      <td>0.0</td>\n",
       "      <td>1.008424e+06</td>\n",
       "    </tr>\n",
       "    <tr>\n",
       "      <th>2</th>\n",
       "      <td>2004-01-05</td>\n",
       "      <td>14946.0</td>\n",
       "      <td>32503.0</td>\n",
       "      <td>19823.51</td>\n",
       "      <td>0.0</td>\n",
       "      <td>1.013891e+06</td>\n",
       "    </tr>\n",
       "    <tr>\n",
       "      <th>3</th>\n",
       "      <td>2004-01-06</td>\n",
       "      <td>14946.0</td>\n",
       "      <td>32503.0</td>\n",
       "      <td>19823.51</td>\n",
       "      <td>0.0</td>\n",
       "      <td>1.018464e+06</td>\n",
       "    </tr>\n",
       "    <tr>\n",
       "      <th>4</th>\n",
       "      <td>2004-01-07</td>\n",
       "      <td>14946.0</td>\n",
       "      <td>32503.0</td>\n",
       "      <td>19823.51</td>\n",
       "      <td>0.0</td>\n",
       "      <td>1.019353e+06</td>\n",
       "    </tr>\n",
       "    <tr>\n",
       "      <th>...</th>\n",
       "      <td>...</td>\n",
       "      <td>...</td>\n",
       "      <td>...</td>\n",
       "      <td>...</td>\n",
       "      <td>...</td>\n",
       "      <td>...</td>\n",
       "    </tr>\n",
       "    <tr>\n",
       "      <th>4272</th>\n",
       "      <td>2020-12-18</td>\n",
       "      <td>14946.0</td>\n",
       "      <td>32503.0</td>\n",
       "      <td>19823.51</td>\n",
       "      <td>0.0</td>\n",
       "      <td>2.300535e+06</td>\n",
       "    </tr>\n",
       "    <tr>\n",
       "      <th>4273</th>\n",
       "      <td>2020-12-21</td>\n",
       "      <td>14946.0</td>\n",
       "      <td>32503.0</td>\n",
       "      <td>19823.51</td>\n",
       "      <td>0.0</td>\n",
       "      <td>2.257283e+06</td>\n",
       "    </tr>\n",
       "    <tr>\n",
       "      <th>4274</th>\n",
       "      <td>2020-12-22</td>\n",
       "      <td>14946.0</td>\n",
       "      <td>32503.0</td>\n",
       "      <td>19823.51</td>\n",
       "      <td>0.0</td>\n",
       "      <td>2.227520e+06</td>\n",
       "    </tr>\n",
       "    <tr>\n",
       "      <th>4275</th>\n",
       "      <td>2020-12-23</td>\n",
       "      <td>14946.0</td>\n",
       "      <td>32503.0</td>\n",
       "      <td>19823.51</td>\n",
       "      <td>0.0</td>\n",
       "      <td>2.223408e+06</td>\n",
       "    </tr>\n",
       "    <tr>\n",
       "      <th>4276</th>\n",
       "      <td>2020-12-24</td>\n",
       "      <td>14946.0</td>\n",
       "      <td>32503.0</td>\n",
       "      <td>19823.51</td>\n",
       "      <td>0.0</td>\n",
       "      <td>2.223053e+06</td>\n",
       "    </tr>\n",
       "  </tbody>\n",
       "</table>\n",
       "<p>4277 rows × 6 columns</p>\n",
       "</div>"
      ],
      "text/plain": [
       "            Date  Asset_APA  Asset_BMY      Cash   Cost           AUM\n",
       "0     2003-12-31    14946.0    32503.0  19823.51  196.0  9.998040e+05\n",
       "1     2004-01-02    14946.0    32503.0  19823.51    0.0  1.008424e+06\n",
       "2     2004-01-05    14946.0    32503.0  19823.51    0.0  1.013891e+06\n",
       "3     2004-01-06    14946.0    32503.0  19823.51    0.0  1.018464e+06\n",
       "4     2004-01-07    14946.0    32503.0  19823.51    0.0  1.019353e+06\n",
       "...          ...        ...        ...       ...    ...           ...\n",
       "4272  2020-12-18    14946.0    32503.0  19823.51    0.0  2.300535e+06\n",
       "4273  2020-12-21    14946.0    32503.0  19823.51    0.0  2.257283e+06\n",
       "4274  2020-12-22    14946.0    32503.0  19823.51    0.0  2.227520e+06\n",
       "4275  2020-12-23    14946.0    32503.0  19823.51    0.0  2.223408e+06\n",
       "4276  2020-12-24    14946.0    32503.0  19823.51    0.0  2.223053e+06\n",
       "\n",
       "[4277 rows x 6 columns]"
      ]
     },
     "execution_count": 42,
     "metadata": {},
     "output_type": "execute_result"
    }
   ],
   "source": [
    "env.portfolioHistory"
   ]
  },
  {
   "cell_type": "code",
   "execution_count": 44,
   "metadata": {},
   "outputs": [],
   "source": [
    "import matplotlib.pyplot as plt"
   ]
  },
  {
   "cell_type": "code",
   "execution_count": 45,
   "metadata": {},
   "outputs": [
    {
     "data": {
      "text/plain": [
       "[<matplotlib.lines.Line2D at 0x14c8cc210>]"
      ]
     },
     "execution_count": 45,
     "metadata": {},
     "output_type": "execute_result"
    },
    {
     "data": {
      "image/png": "[encoded data removed]",
      "text/plain": [
       "<Figure size 432x288 with 1 Axes>"
      ]
     },
     "metadata": {
      "needs_background": "light"
     },
     "output_type": "display_data"
    }
   ],
   "source": [
    "plt.plot(env.portfolioHistory[\"AUM\"])"
   ]
  },
  {
   "cell_type": "code",
   "execution_count": 48,
   "metadata": {},
   "outputs": [
    {
     "name": "stdout",
     "output_type": "stream",
     "text": [
      "Model: \"TargetModel\"\n",
      "_________________________________________________________________\n",
      "Layer (type)                 Output Shape              Param #   \n",
      "=================================================================\n",
      "dense_15 (Dense)             (None, 64)                4160      \n",
      "_________________________________________________________________\n",
      "dense_16 (Dense)             (None, 32)                2080      \n",
      "_________________________________________________________________\n",
      "dense_17 (Dense)             (None, 7)                 231       \n",
      "=================================================================\n",
      "Total params: 6,471\n",
      "Trainable params: 6,471\n",
      "Non-trainable params: 0\n",
      "_________________________________________________________________\n"
     ]
    }
   ],
   "source": [
    "Agent.Targetmodel.model.summary()"
   ]
  },
  {
   "cell_type": "code",
   "execution_count": 20,
   "metadata": {},
   "outputs": [],
   "source": [
    "import utils"
   ]
  },
  {
   "cell_type": "code",
   "execution_count": 21,
   "metadata": {},
   "outputs": [
    {
     "data": {
      "text/plain": [
       "2000"
      ]
     },
     "execution_count": 21,
     "metadata": {},
     "output_type": "execute_result"
    }
   ],
   "source": [
    "utils.get_val(Agent.config, tag = \"NB_EPISODES_TRAIN\", default_value= 2000)"
   ]
  },
  {
   "cell_type": "code",
   "execution_count": 23,
   "metadata": {},
   "outputs": [
    {
     "data": {
      "text/plain": [
       "<ConfigReader.Config at 0x14e31e550>"
      ]
     },
     "execution_count": 23,
     "metadata": {},
     "output_type": "execute_result"
    }
   ],
   "source": [
    "Agent.config"
   ]
  },
  {
   "cell_type": "code",
   "execution_count": null,
   "metadata": {},
   "outputs": [],
   "source": []
  },
  {
   "cell_type": "code",
   "execution_count": 102,
   "metadata": {},
   "outputs": [],
   "source": [
    "from tensorflow.keras.models import Sequential, Model"
   ]
  },
  {
   "cell_type": "code",
   "execution_count": 103,
   "metadata": {},
   "outputs": [],
   "source": [
    "from tensorflow.keras.layers import Dense, Dropout\n",
    "from tensorflow.keras.losses import mean_squared_error\n",
    "from tensorflow.keras.optimizers import RMSprop"
   ]
  },
  {
   "cell_type": "code",
   "execution_count": 115,
   "metadata": {},
   "outputs": [],
   "source": [
    "model = Sequential(name = \"temp\")"
   ]
  },
  {
   "cell_type": "code",
   "execution_count": 116,
   "metadata": {},
   "outputs": [],
   "source": [
    "model.add(Dense(units = 64, activation = \"relu\", input_dim = 64))\n",
    "model.add(Dense(units = 32, activation = \"relu\"))\n",
    "model.add(Dense(units = 7, activation = \"linear\"))\n",
    "\n"
   ]
  },
  {
   "cell_type": "code",
   "execution_count": 117,
   "metadata": {},
   "outputs": [
    {
     "name": "stdout",
     "output_type": "stream",
     "text": [
      "Model: \"temp\"\n",
      "_________________________________________________________________\n",
      "Layer (type)                 Output Shape              Param #   \n",
      "=================================================================\n",
      "dense_52 (Dense)             (None, 64)                4160      \n",
      "_________________________________________________________________\n",
      "dense_53 (Dense)             (None, 32)                2080      \n",
      "_________________________________________________________________\n",
      "dense_54 (Dense)             (None, 7)                 231       \n",
      "=================================================================\n",
      "Total params: 6,471\n",
      "Trainable params: 6,471\n",
      "Non-trainable params: 0\n",
      "_________________________________________________________________\n"
     ]
    }
   ],
   "source": [
    "model.summary()"
   ]
  },
  {
   "cell_type": "code",
   "execution_count": 125,
   "metadata": {},
   "outputs": [
    {
     "data": {
      "text/plain": [
       "(1, 64)"
      ]
     },
     "execution_count": 125,
     "metadata": {},
     "output_type": "execute_result"
    }
   ],
   "source": [
    "state.reshape(1,64).shape"
   ]
  },
  {
   "cell_type": "code",
   "execution_count": 143,
   "metadata": {},
   "outputs": [
    {
     "data": {
      "text/plain": [
       "<module 'Environments' from '/Users/ankitgupta/Documents/git/anks/MachineLearning/ReinforcementLearning/UseCases/PortfolioManagement/notebooks/../lib/Environments.py'>"
      ]
     },
     "execution_count": 143,
     "metadata": {},
     "output_type": "execute_result"
    }
   ],
   "source": [
    "reload(Environments)"
   ]
  },
  {
   "cell_type": "code",
   "execution_count": 144,
   "metadata": {},
   "outputs": [
    {
     "name": "stdout",
     "output_type": "stream",
     "text": [
      "2021-02-01 17:01:39 INFO     Environments    Data Loaded!\n",
      "2021-02-01 17:01:39 INFO     Actions         Action Space set with 8 possible actions \n",
      "2021-02-01 17:01:39 INFO     Environments    Environment reset\n"
     ]
    }
   ],
   "source": [
    "actions = [\n",
    "    [-0.01,0.01],\n",
    "    [-0.02,0.02],\n",
    "    [-0.03,0.03],\n",
    "    [0.01,-0.01],\n",
    "    [0.02,-0.02],\n",
    "    [0.03,-0.03],\n",
    "    [-0.00,0.00],\n",
    "    [-1, -1]\n",
    "]\n",
    "\n",
    "env = Environments.Portfolio(assets = [\"APA\", \"BMY\"], initialWeight = [0.5, 0.5], \\\n",
    "                 nhistoricalDays = 2, \\\n",
    "                 actions = actions)"
   ]
  },
  {
   "cell_type": "code",
   "execution_count": 145,
   "metadata": {},
   "outputs": [
    {
     "data": {
      "text/plain": [
       "16"
      ]
     },
     "execution_count": 145,
     "metadata": {},
     "output_type": "execute_result"
    }
   ],
   "source": [
    "len(env.currentState)"
   ]
  },
  {
   "cell_type": "code",
   "execution_count": 146,
   "metadata": {},
   "outputs": [],
   "source": [
    "_, rew, _ = env.step([-1,-1])"
   ]
  },
  {
   "cell_type": "code",
   "execution_count": 147,
   "metadata": {},
   "outputs": [
    {
     "data": {
      "text/plain": [
       "16"
      ]
     },
     "execution_count": 147,
     "metadata": {},
     "output_type": "execute_result"
    }
   ],
   "source": [
    "env.observation_space.n"
   ]
  },
  {
   "cell_type": "code",
   "execution_count": 148,
   "metadata": {},
   "outputs": [],
   "source": [
    "from tensorflow.keras.models import Sequential\n",
    "from tensorflow.keras.layers import Dense, Dropout\n",
    "from tensorflow.keras.optimizers import Adagrad, RMSprop, Adam\n",
    "from tensorflow.keras.losses import mean_squared_error\n",
    "from tensorflow.keras.callbacks import History\n",
    "from tensorflow.keras.initializers import glorot_normal \n"
   ]
  },
  {
   "cell_type": "code",
   "execution_count": 149,
   "metadata": {},
   "outputs": [],
   "source": [
    "from sklearn import preprocessing"
   ]
  },
  {
   "cell_type": "code",
   "execution_count": 150,
   "metadata": {},
   "outputs": [],
   "source": [
    "# create the network model\n",
    "# 2 networks required\n",
    "from collections import deque\n",
    "\n",
    "memory = deque(maxlen=100)\n",
    "\n",
    "\n"
   ]
  },
  {
   "cell_type": "code",
   "execution_count": 151,
   "metadata": {},
   "outputs": [],
   "source": [
    "# just 2 layers\n",
    "QNetwork = Sequential()\n",
    "\n",
    "\n",
    "layer1 = Dense(32, input_shape = (16,), activation = \"relu\", kernel_initializer=glorot_normal())\n",
    "#layer1 = Dense(32, input_shape = (64,), activation = \"relu\")\n",
    "layer2 = Dense(8, activation = \"linear\", kernel_initializer=glorot_normal())   # 7 actions\n",
    "QNetwork.add(layer1)\n",
    "QNetwork.add(layer2)\n",
    "\n"
   ]
  },
  {
   "cell_type": "code",
   "execution_count": 152,
   "metadata": {},
   "outputs": [],
   "source": [
    "optimizer = Adam(learning_rate = 0.00025)\n",
    "loss = \"mse\"\n",
    "metrics = [loss] if loss in [\"mae\", \"mse\"] else [\"mse\"]\n",
    "\n",
    "        # compile the model\n",
    "QNetwork.compile(optimizer = optimizer, loss = loss, metrics = metrics)\n",
    "\n",
    "        "
   ]
  },
  {
   "cell_type": "code",
   "execution_count": 153,
   "metadata": {},
   "outputs": [],
   "source": [
    "ModelHistory   = History()     # to store learning history\n",
    "callbacks = []\n",
    "callbacks.append(ModelHistory)"
   ]
  },
  {
   "cell_type": "code",
   "execution_count": 154,
   "metadata": {},
   "outputs": [],
   "source": [
    "TargetNetwork = Sequential()\n",
    "# just 2 layers\n",
    "#layer1 = Dense(32, input_shape = (64,), activation = \"relu\", kernel_initializer=glorot_normal())\n",
    "layer1 = Dense(32, input_shape = (16,), activation = \"relu\")\n",
    "\n",
    "layer2 = Dense(8, activation = \"linear\", kernel_initializer=glorot_normal())   # 7 actions\n",
    "TargetNetwork.add(layer1)\n",
    "TargetNetwork.add(layer2)\n",
    "\n",
    "optimizer = Adam(learning_rate = 0.00025)\n",
    "loss = \"mse\"\n",
    "metrics = [loss] if loss in [\"mae\", \"mse\"] else [\"mse\"]\n",
    "\n",
    "        # compile the model\n",
    "TargetNetwork.compile(optimizer = optimizer, loss = loss, metrics = metrics)\n",
    "\n",
    "       \n",
    "\n",
    "TargetNetwork.set_weights(QNetwork.get_weights())\n"
   ]
  },
  {
   "cell_type": "code",
   "execution_count": 155,
   "metadata": {},
   "outputs": [
    {
     "name": "stdout",
     "output_type": "stream",
     "text": [
      "Model: \"sequential_4\"\n",
      "_________________________________________________________________\n",
      "Layer (type)                 Output Shape              Param #   \n",
      "=================================================================\n",
      "dense_8 (Dense)              (None, 32)                544       \n",
      "_________________________________________________________________\n",
      "dense_9 (Dense)              (None, 8)                 264       \n",
      "=================================================================\n",
      "Total params: 808\n",
      "Trainable params: 808\n",
      "Non-trainable params: 0\n",
      "_________________________________________________________________\n",
      "None\n",
      "Model: \"sequential_5\"\n",
      "_________________________________________________________________\n",
      "Layer (type)                 Output Shape              Param #   \n",
      "=================================================================\n",
      "dense_10 (Dense)             (None, 32)                544       \n",
      "_________________________________________________________________\n",
      "dense_11 (Dense)             (None, 8)                 264       \n",
      "=================================================================\n",
      "Total params: 808\n",
      "Trainable params: 808\n",
      "Non-trainable params: 0\n",
      "_________________________________________________________________\n",
      "None\n"
     ]
    }
   ],
   "source": [
    "print(QNetwork.summary())\n",
    "print(TargetNetwork.summary())"
   ]
  },
  {
   "cell_type": "code",
   "execution_count": 156,
   "metadata": {},
   "outputs": [],
   "source": [
    "from Actions.ActionSelection import EpsilonGreedy"
   ]
  },
  {
   "cell_type": "code",
   "execution_count": 157,
   "metadata": {},
   "outputs": [
    {
     "data": {
      "text/plain": [
       "<module 'Actions.ActionSelection' from '/Users/ankitgupta/Documents/git/anks/MachineLearning/ReinforcementLearning/UseCases/PortfolioManagement/notebooks/../lib/Actions/ActionSelection.py'>"
      ]
     },
     "execution_count": 157,
     "metadata": {},
     "output_type": "execute_result"
    }
   ],
   "source": [
    "import Actions.ActionSelection as act\n",
    "reload(act)"
   ]
  },
  {
   "cell_type": "code",
   "execution_count": 158,
   "metadata": {},
   "outputs": [],
   "source": [
    "from Actions.ActionSelection import EpsilonGreedy"
   ]
  },
  {
   "cell_type": "code",
   "execution_count": 159,
   "metadata": {},
   "outputs": [],
   "source": [
    "eps = EpsilonGreedy(1, 0.1, 1000)"
   ]
  },
  {
   "cell_type": "code",
   "execution_count": 160,
   "metadata": {},
   "outputs": [],
   "source": [
    "def getaction(state, env, trainingiterationCount = 1):\n",
    "    \n",
    "    # get one hot representation of state\n",
    "    #_state = getOneHotrepresentation(state, num_classes=self.env.observation_space.n)\n",
    "\n",
    "    state = np.array(state).reshape(1, env.observation_space.n)\n",
    "    \n",
    "    __state = normalizeX(state)\n",
    "    \n",
    "    _actionsValues      = QNetwork.predict(__state)[0] \n",
    "    _greedyActionIndex  = np.argmax(_actionsValues)\n",
    "\n",
    "    # epsilonGreedyaction        \n",
    "    action          = eps.chooseAction(trainingiterationCount, range(env.action_space.n), \\\n",
    "                                        optimalActionIndex=_greedyActionIndex)\n",
    "\n",
    "\n",
    "\n",
    "    return action"
   ]
  },
  {
   "cell_type": "code",
   "execution_count": 161,
   "metadata": {},
   "outputs": [],
   "source": [
    "\n",
    "def updatememory(memory, currentState, currentAction, reward, nextState, dead):\n",
    "    if any(x is None for x in currentState) is False:\n",
    "        memory.append((currentState, currentAction, reward, nextState, dead))\n",
    "    return memory\n",
    "\n"
   ]
  },
  {
   "cell_type": "code",
   "execution_count": 162,
   "metadata": {},
   "outputs": [],
   "source": [
    "def normalizeX(X):\n",
    "    \n",
    "    a = np.array(list(zip(*X))[:-8]).T\n",
    "    \n",
    "    normalized_a = preprocessing.normalize(a)\n",
    "    \n",
    "    old = pd.DataFrame(X)\n",
    "    \n",
    "    columns = []\n",
    "    \n",
    "    for col in old.columns:\n",
    "        if int(col) >= len(old.columns) - 8:\n",
    "            columns.append(col)\n",
    "            \n",
    "    action = old[columns] \n",
    "    #action = pd.DataFrame(np.array(list(zip(*X))[-7:-8]).T)\n",
    "    new = pd.DataFrame(normalized_a)\n",
    "    \n",
    "    \n",
    "    output = new.merge(action, left_index = True, right_index = True)\n",
    "    \n",
    "    #temp = pd.DataFrame(X)\n",
    "    return np.array(output)\n",
    "    \n",
    "    # remove last columns from normalization, as they are just binary inputs\n",
    "    "
   ]
  },
  {
   "cell_type": "code",
   "execution_count": 163,
   "metadata": {},
   "outputs": [],
   "source": [
    "def getTrainingData(samples, env, targetNetwork):\n",
    "    \n",
    "    discountfactor = 0.01\n",
    "    \n",
    "    # -----X Train------\n",
    "    \n",
    "    # for all experience in batchsize\n",
    "    curStates       = list(list(zip(*samples)))[0]\n",
    "    actions         = list(list(zip(*samples)))[1]\n",
    "    nextStates      = list(list(zip(*samples)))[3]\n",
    "    rewards         = list(list(zip(*samples)))[2]\n",
    "    done            = list(list(zip(*samples)))[4]\n",
    "\n",
    "    \n",
    "    # Add pre-processing step if needed\n",
    "    inputStates     = np.array(curStates).reshape(len(curStates), env.observation_space.n)\n",
    "    \n",
    "    x_train = inputStates\n",
    "    \n",
    "    # -----Y Train------\n",
    "    nextStates      = np.array(nextStates).reshape(len(nextStates), env.observation_space.n)\n",
    "    \n",
    "    \n",
    "    # apply Q update\n",
    "    # y <-- r + gamma*max(Q_target(s_next))\n",
    "    \n",
    "    nextQvalues = targetNetwork.predict(nextStates)\n",
    "\n",
    "    y_train = np.zeros(shape = nextQvalues.shape)\n",
    "    \n",
    "    max_nextQvalues = list(map(max, nextQvalues))\n",
    "    \n",
    "    for index, action in enumerate(actions):\n",
    "        if done[index]:\n",
    "            y_train[index][int(action)] = rewards[index] \n",
    "        else:\n",
    "            y_train[index][int(action)] = rewards[index] + discountfactor * max_nextQvalues[index]\n",
    "            \n",
    "            \n",
    "    \n",
    "    # training data is set\n",
    "    return x_train, y_train\n",
    "\n",
    "        \n",
    "    \n",
    "    \n",
    "\n",
    "    \n",
    "    \n",
    "    \n",
    "    "
   ]
  },
  {
   "cell_type": "code",
   "execution_count": null,
   "metadata": {},
   "outputs": [],
   "source": []
  },
  {
   "cell_type": "code",
   "execution_count": null,
   "metadata": {},
   "outputs": [],
   "source": []
  },
  {
   "cell_type": "code",
   "execution_count": 164,
   "metadata": {},
   "outputs": [
    {
     "name": "stdout",
     "output_type": "stream",
     "text": [
      "2021-02-01 17:01:45 INFO     Environments    Environment reset\n"
     ]
    }
   ],
   "source": [
    "env.reset()"
   ]
  },
  {
   "cell_type": "code",
   "execution_count": null,
   "metadata": {},
   "outputs": [],
   "source": []
  },
  {
   "cell_type": "code",
   "execution_count": 165,
   "metadata": {},
   "outputs": [],
   "source": [
    "nbEpisodes = 5\n",
    "memory = []\n",
    "count = 0\n",
    "immediate_reward = []\n",
    "batch_size=32\n",
    "epoch = 1\n",
    "\n",
    "samplingStart = 150\n"
   ]
  },
  {
   "cell_type": "code",
   "execution_count": 166,
   "metadata": {},
   "outputs": [
    {
     "data": {
      "text/plain": [
       "999902.0"
      ]
     },
     "execution_count": 166,
     "metadata": {},
     "output_type": "execute_result"
    }
   ],
   "source": [
    "env.currentPortfolioValue"
   ]
  },
  {
   "cell_type": "code",
   "execution_count": 167,
   "metadata": {},
   "outputs": [],
   "source": [
    "config = {\"initialCash1\": constants.MILLION, \"minCash\": 0.02, \"transactionCost\": 0.0001}"
   ]
  },
  {
   "cell_type": "code",
   "execution_count": 168,
   "metadata": {},
   "outputs": [
    {
     "name": "stdout",
     "output_type": "stream",
     "text": [
      "2021-02-01 17:01:49 INFO     Environments    Environment reset\n"
     ]
    }
   ],
   "source": [
    "weights = []\n",
    "loss = []\n",
    "\n",
    "# reset environment\n",
    "env.reset()\n",
    "dead = False\n",
    "samplingStartCounter = 0\n",
    "\n",
    "_currentState = env.currentState\n",
    "\n",
    "nbEpisodes = 5\n"
   ]
  },
  {
   "cell_type": "code",
   "execution_count": 169,
   "metadata": {},
   "outputs": [
    {
     "name": "stdout",
     "output_type": "stream",
     "text": [
      "2021-02-01 17:01:54 INFO     Environments    Environment reset\n",
      "2021-02-01 17:03:20 INFO     Environments    Environment reset\n",
      "2021-02-01 17:04:46 INFO     Environments    Environment reset\n",
      "2021-02-01 17:08:31 INFO     Environments    Environment reset\n",
      "2021-02-01 17:09:58 INFO     Environments    Environment reset\n"
     ]
    }
   ],
   "source": [
    "\n",
    "for i in range(nbEpisodes):\n",
    "    \n",
    "    # reset environment\n",
    "    env.reset()\n",
    "    dead = False\n",
    "    \n",
    "    _currentState = env.currentState\n",
    "    \n",
    "    while not dead:\n",
    "        \n",
    "        # get epsilon greeedy action\n",
    "        count += 1\n",
    "        if any(x is None for x in _currentState) is False:\n",
    "            actionIndex = getaction(_currentState, env, count)\n",
    "\n",
    "            action = env.action_space.actions[actionIndex]\n",
    "\n",
    "            # take a step in this direction\n",
    "            _nextState, _reward, dead = env.step(action)\n",
    "            #print(_reward, dead, action)\n",
    "            #immediate_reward.append(_reward)\n",
    "\n",
    "            # update memory\n",
    "            memory = updatememory(memory, _currentState, actionIndex, _reward, _nextState, dead)\n",
    "\n",
    "            # sample (uniform) from memory  (32 samples)\n",
    "            if len(memory) >= 100:\n",
    "\n",
    "                samples = random.sample(memory, 100)   \n",
    "\n",
    "                # update Q value\n",
    "\n",
    "                # get training data\n",
    "\n",
    "                x_train, y_train = getTrainingData(samples, env, TargetNetwork)\n",
    "\n",
    "                # normalize X data\n",
    "                x_train = normalizeX(x_train)\n",
    "\n",
    "                # train the model\n",
    "                QNetwork.fit(x=x_train, y = np.array(y_train), \\\n",
    "                                batch_size = batch_size, epochs = epoch, verbose = False, \n",
    "                                callbacks= callbacks)\n",
    "\n",
    "            # store weights \n",
    "            weights.append(QNetwork.layers[0].get_weights()[0])\n",
    "        #loss.append(cal)\n",
    "                \n",
    "        _currentState = _nextState\n",
    "\n",
    "\n",
    "    # after every episode, update the target network\n",
    "    TargetNetwork.set_weights(QNetwork.get_weights())\n",
    "    \n",
    "    \n",
    "    "
   ]
  },
  {
   "cell_type": "code",
   "execution_count": 170,
   "metadata": {},
   "outputs": [
    {
     "data": {
      "text/html": [
       "<div>\n",
       "<style scoped>\n",
       "    .dataframe tbody tr th:only-of-type {\n",
       "        vertical-align: middle;\n",
       "    }\n",
       "\n",
       "    .dataframe tbody tr th {\n",
       "        vertical-align: top;\n",
       "    }\n",
       "\n",
       "    .dataframe thead th {\n",
       "        text-align: right;\n",
       "    }\n",
       "</style>\n",
       "<table border=\"1\" class=\"dataframe\">\n",
       "  <thead>\n",
       "    <tr style=\"text-align: right;\">\n",
       "      <th></th>\n",
       "      <th>Date</th>\n",
       "      <th>Asset_APA</th>\n",
       "      <th>Asset_BMY</th>\n",
       "      <th>Cash</th>\n",
       "      <th>Cost</th>\n",
       "      <th>AUM</th>\n",
       "    </tr>\n",
       "  </thead>\n",
       "  <tbody>\n",
       "    <tr>\n",
       "      <th>0</th>\n",
       "      <td>2003-12-31</td>\n",
       "      <td>14946.0</td>\n",
       "      <td>32503.0</td>\n",
       "      <td>19921.51</td>\n",
       "      <td>98.00</td>\n",
       "      <td>9.999020e+05</td>\n",
       "    </tr>\n",
       "    <tr>\n",
       "      <th>1</th>\n",
       "      <td>2004-01-02</td>\n",
       "      <td>14031.0</td>\n",
       "      <td>34493.0</td>\n",
       "      <td>19915.51</td>\n",
       "      <td>6.00</td>\n",
       "      <td>1.009564e+06</td>\n",
       "    </tr>\n",
       "    <tr>\n",
       "      <th>2</th>\n",
       "      <td>2004-01-05</td>\n",
       "      <td>13099.0</td>\n",
       "      <td>36451.0</td>\n",
       "      <td>19909.45</td>\n",
       "      <td>6.06</td>\n",
       "      <td>1.013972e+06</td>\n",
       "    </tr>\n",
       "    <tr>\n",
       "      <th>3</th>\n",
       "      <td>2004-01-06</td>\n",
       "      <td>12176.0</td>\n",
       "      <td>38423.0</td>\n",
       "      <td>19903.37</td>\n",
       "      <td>6.08</td>\n",
       "      <td>1.018557e+06</td>\n",
       "    </tr>\n",
       "    <tr>\n",
       "      <th>4</th>\n",
       "      <td>2004-01-07</td>\n",
       "      <td>11868.0</td>\n",
       "      <td>39080.0</td>\n",
       "      <td>19901.33</td>\n",
       "      <td>2.04</td>\n",
       "      <td>1.020642e+06</td>\n",
       "    </tr>\n",
       "    <tr>\n",
       "      <th>...</th>\n",
       "      <td>...</td>\n",
       "      <td>...</td>\n",
       "      <td>...</td>\n",
       "      <td>...</td>\n",
       "      <td>...</td>\n",
       "      <td>...</td>\n",
       "    </tr>\n",
       "    <tr>\n",
       "      <th>4272</th>\n",
       "      <td>2020-12-18</td>\n",
       "      <td>-194125501.0</td>\n",
       "      <td>49062598.0</td>\n",
       "      <td>-3751271.08</td>\n",
       "      <td>42.88</td>\n",
       "      <td>1.171359e+08</td>\n",
       "    </tr>\n",
       "    <tr>\n",
       "      <th>4273</th>\n",
       "      <td>2020-12-21</td>\n",
       "      <td>-194354730.0</td>\n",
       "      <td>49118271.0</td>\n",
       "      <td>-3751973.90</td>\n",
       "      <td>702.82</td>\n",
       "      <td>1.559041e+08</td>\n",
       "    </tr>\n",
       "    <tr>\n",
       "      <th>4274</th>\n",
       "      <td>2020-12-22</td>\n",
       "      <td>-194669688.0</td>\n",
       "      <td>49193696.0</td>\n",
       "      <td>-3752909.32</td>\n",
       "      <td>935.42</td>\n",
       "      <td>2.694799e+08</td>\n",
       "    </tr>\n",
       "    <tr>\n",
       "      <th>4275</th>\n",
       "      <td>2020-12-23</td>\n",
       "      <td>-195242237.0</td>\n",
       "      <td>49325299.0</td>\n",
       "      <td>-3754526.20</td>\n",
       "      <td>1616.88</td>\n",
       "      <td>1.194085e+08</td>\n",
       "    </tr>\n",
       "    <tr>\n",
       "      <th>4276</th>\n",
       "      <td>2020-12-24</td>\n",
       "      <td>-195484609.0</td>\n",
       "      <td>49384024.0</td>\n",
       "      <td>-3755242.65</td>\n",
       "      <td>716.45</td>\n",
       "      <td>1.952349e+08</td>\n",
       "    </tr>\n",
       "  </tbody>\n",
       "</table>\n",
       "<p>4277 rows × 6 columns</p>\n",
       "</div>"
      ],
      "text/plain": [
       "            Date    Asset_APA   Asset_BMY        Cash     Cost           AUM\n",
       "0     2003-12-31      14946.0     32503.0    19921.51    98.00  9.999020e+05\n",
       "1     2004-01-02      14031.0     34493.0    19915.51     6.00  1.009564e+06\n",
       "2     2004-01-05      13099.0     36451.0    19909.45     6.06  1.013972e+06\n",
       "3     2004-01-06      12176.0     38423.0    19903.37     6.08  1.018557e+06\n",
       "4     2004-01-07      11868.0     39080.0    19901.33     2.04  1.020642e+06\n",
       "...          ...          ...         ...         ...      ...           ...\n",
       "4272  2020-12-18 -194125501.0  49062598.0 -3751271.08    42.88  1.171359e+08\n",
       "4273  2020-12-21 -194354730.0  49118271.0 -3751973.90   702.82  1.559041e+08\n",
       "4274  2020-12-22 -194669688.0  49193696.0 -3752909.32   935.42  2.694799e+08\n",
       "4275  2020-12-23 -195242237.0  49325299.0 -3754526.20  1616.88  1.194085e+08\n",
       "4276  2020-12-24 -195484609.0  49384024.0 -3755242.65   716.45  1.952349e+08\n",
       "\n",
       "[4277 rows x 6 columns]"
      ]
     },
     "execution_count": 170,
     "metadata": {},
     "output_type": "execute_result"
    }
   ],
   "source": [
    "env.portfolioHistory"
   ]
  },
  {
   "cell_type": "code",
   "execution_count": 171,
   "metadata": {},
   "outputs": [],
   "source": [
    "weights = np.array(weights)"
   ]
  },
  {
   "cell_type": "code",
   "execution_count": 172,
   "metadata": {},
   "outputs": [
    {
     "data": {
      "text/plain": [
       "(21380, 16, 32)"
      ]
     },
     "execution_count": 172,
     "metadata": {},
     "output_type": "execute_result"
    }
   ],
   "source": [
    "weights.shape"
   ]
  },
  {
   "cell_type": "code",
   "execution_count": 173,
   "metadata": {},
   "outputs": [
    {
     "data": {
      "text/plain": [
       "<function ndarray.flatten>"
      ]
     },
     "execution_count": 173,
     "metadata": {},
     "output_type": "execute_result"
    }
   ],
   "source": [
    "weights[0].flatten"
   ]
  },
  {
   "cell_type": "code",
   "execution_count": 174,
   "metadata": {},
   "outputs": [
    {
     "data": {
      "image/png": "[encoded data removed]",
      "text/plain": [
       "<Figure size 432x288 with 1 Axes>"
      ]
     },
     "metadata": {
      "needs_background": "light"
     },
     "output_type": "display_data"
    }
   ],
   "source": [
    "import matplotlib.pyplot as plt\n",
    "a = plt.hist(weights[1000].flatten(), bins=100)"
   ]
  },
  {
   "cell_type": "code",
   "execution_count": 175,
   "metadata": {},
   "outputs": [
    {
     "data": {
      "text/plain": [
       "-9.364982983759791"
      ]
     },
     "execution_count": 175,
     "metadata": {},
     "output_type": "execute_result"
    }
   ],
   "source": [
    "_reward"
   ]
  },
  {
   "cell_type": "code",
   "execution_count": 176,
   "metadata": {},
   "outputs": [
    {
     "data": {
      "text/plain": [
       "{'loss': [1.1565313479259206e+20], 'mean_squared_error': [1.1565313e+20]}"
      ]
     },
     "execution_count": 176,
     "metadata": {},
     "output_type": "execute_result"
    }
   ],
   "source": [
    "callbacks[0].history"
   ]
  },
  {
   "cell_type": "code",
   "execution_count": 179,
   "metadata": {},
   "outputs": [
    {
     "name": "stdout",
     "output_type": "stream",
     "text": [
      "2021-02-01 17:15:45 INFO     Environments    Environment reset\n"
     ]
    }
   ],
   "source": [
    "### run for 1 more episde with target network. No training\n",
    "nbEpisodes = 1\n",
    "actions = []\n",
    "for i in range(nbEpisodes):\n",
    "    \n",
    "    # reset environment\n",
    "    env.reset()\n",
    "    dead = False\n",
    "    \n",
    "    _currentState = env.currentState\n",
    "    \n",
    "    while not dead:\n",
    "        \n",
    "        # get epsilon greeedy action\n",
    "        count += 1\n",
    "        if any(x is None for x in _currentState) is False:\n",
    "            actionIndex = getaction(_currentState, env, count)\n",
    "            actions.append(actionIndex)\n",
    "\n",
    "            action = env.action_space.actions[actionIndex]\n",
    "\n",
    "            # take a step in this direction\n",
    "            _nextState, _reward, dead = env.step(action)\n",
    "            #immediate_reward.append(_reward)\n",
    "\n",
    "            # update memory\n",
    "            # memory = updatememory(memory, _currentState, actionIndex, _reward, _nextState, dead)\n",
    "\n",
    "\n",
    "        _currentState = _nextState\n",
    "\n",
    "    \n",
    "    "
   ]
  },
  {
   "cell_type": "code",
   "execution_count": 180,
   "metadata": {},
   "outputs": [
    {
     "data": {
      "text/html": [
       "<div>\n",
       "<style scoped>\n",
       "    .dataframe tbody tr th:only-of-type {\n",
       "        vertical-align: middle;\n",
       "    }\n",
       "\n",
       "    .dataframe tbody tr th {\n",
       "        vertical-align: top;\n",
       "    }\n",
       "\n",
       "    .dataframe thead th {\n",
       "        text-align: right;\n",
       "    }\n",
       "</style>\n",
       "<table border=\"1\" class=\"dataframe\">\n",
       "  <thead>\n",
       "    <tr style=\"text-align: right;\">\n",
       "      <th></th>\n",
       "      <th>Date</th>\n",
       "      <th>Asset_APA</th>\n",
       "      <th>Asset_BMY</th>\n",
       "      <th>Cash</th>\n",
       "      <th>Cost</th>\n",
       "      <th>AUM</th>\n",
       "    </tr>\n",
       "  </thead>\n",
       "  <tbody>\n",
       "    <tr>\n",
       "      <th>0</th>\n",
       "      <td>2003-12-31</td>\n",
       "      <td>14946.0</td>\n",
       "      <td>32503.0</td>\n",
       "      <td>19921.51</td>\n",
       "      <td>98.00</td>\n",
       "      <td>9.999020e+05</td>\n",
       "    </tr>\n",
       "    <tr>\n",
       "      <th>1</th>\n",
       "      <td>2004-01-02</td>\n",
       "      <td>14031.0</td>\n",
       "      <td>34493.0</td>\n",
       "      <td>19915.51</td>\n",
       "      <td>6.00</td>\n",
       "      <td>1.009564e+06</td>\n",
       "    </tr>\n",
       "    <tr>\n",
       "      <th>2</th>\n",
       "      <td>2004-01-05</td>\n",
       "      <td>13099.0</td>\n",
       "      <td>36451.0</td>\n",
       "      <td>19909.45</td>\n",
       "      <td>6.06</td>\n",
       "      <td>1.013972e+06</td>\n",
       "    </tr>\n",
       "    <tr>\n",
       "      <th>3</th>\n",
       "      <td>2004-01-06</td>\n",
       "      <td>12176.0</td>\n",
       "      <td>38423.0</td>\n",
       "      <td>19903.37</td>\n",
       "      <td>6.08</td>\n",
       "      <td>1.018557e+06</td>\n",
       "    </tr>\n",
       "    <tr>\n",
       "      <th>4</th>\n",
       "      <td>2004-01-07</td>\n",
       "      <td>11253.0</td>\n",
       "      <td>40395.0</td>\n",
       "      <td>19897.26</td>\n",
       "      <td>6.11</td>\n",
       "      <td>1.020893e+06</td>\n",
       "    </tr>\n",
       "    <tr>\n",
       "      <th>...</th>\n",
       "      <td>...</td>\n",
       "      <td>...</td>\n",
       "      <td>...</td>\n",
       "      <td>...</td>\n",
       "      <td>...</td>\n",
       "      <td>...</td>\n",
       "    </tr>\n",
       "    <tr>\n",
       "      <th>4272</th>\n",
       "      <td>2020-12-18</td>\n",
       "      <td>-19553006.0</td>\n",
       "      <td>7077165.0</td>\n",
       "      <td>-205491.77</td>\n",
       "      <td>806.65</td>\n",
       "      <td>1.467576e+08</td>\n",
       "    </tr>\n",
       "    <tr>\n",
       "      <th>4273</th>\n",
       "      <td>2020-12-21</td>\n",
       "      <td>-19840203.0</td>\n",
       "      <td>7146917.0</td>\n",
       "      <td>-206372.32</td>\n",
       "      <td>880.55</td>\n",
       "      <td>1.483469e+08</td>\n",
       "    </tr>\n",
       "    <tr>\n",
       "      <th>4274</th>\n",
       "      <td>2020-12-22</td>\n",
       "      <td>-20139894.0</td>\n",
       "      <td>7218686.0</td>\n",
       "      <td>-207262.40</td>\n",
       "      <td>890.08</td>\n",
       "      <td>1.588613e+08</td>\n",
       "    </tr>\n",
       "    <tr>\n",
       "      <th>4275</th>\n",
       "      <td>2020-12-23</td>\n",
       "      <td>-20477418.0</td>\n",
       "      <td>7296268.0</td>\n",
       "      <td>-208215.57</td>\n",
       "      <td>953.17</td>\n",
       "      <td>1.422079e+08</td>\n",
       "    </tr>\n",
       "    <tr>\n",
       "      <th>4276</th>\n",
       "      <td>2020-12-24</td>\n",
       "      <td>-20766067.0</td>\n",
       "      <td>7366206.0</td>\n",
       "      <td>-209068.82</td>\n",
       "      <td>853.25</td>\n",
       "      <td>1.505801e+08</td>\n",
       "    </tr>\n",
       "  </tbody>\n",
       "</table>\n",
       "<p>4277 rows × 6 columns</p>\n",
       "</div>"
      ],
      "text/plain": [
       "            Date   Asset_APA  Asset_BMY       Cash    Cost           AUM\n",
       "0     2003-12-31     14946.0    32503.0   19921.51   98.00  9.999020e+05\n",
       "1     2004-01-02     14031.0    34493.0   19915.51    6.00  1.009564e+06\n",
       "2     2004-01-05     13099.0    36451.0   19909.45    6.06  1.013972e+06\n",
       "3     2004-01-06     12176.0    38423.0   19903.37    6.08  1.018557e+06\n",
       "4     2004-01-07     11253.0    40395.0   19897.26    6.11  1.020893e+06\n",
       "...          ...         ...        ...        ...     ...           ...\n",
       "4272  2020-12-18 -19553006.0  7077165.0 -205491.77  806.65  1.467576e+08\n",
       "4273  2020-12-21 -19840203.0  7146917.0 -206372.32  880.55  1.483469e+08\n",
       "4274  2020-12-22 -20139894.0  7218686.0 -207262.40  890.08  1.588613e+08\n",
       "4275  2020-12-23 -20477418.0  7296268.0 -208215.57  953.17  1.422079e+08\n",
       "4276  2020-12-24 -20766067.0  7366206.0 -209068.82  853.25  1.505801e+08\n",
       "\n",
       "[4277 rows x 6 columns]"
      ]
     },
     "execution_count": 180,
     "metadata": {},
     "output_type": "execute_result"
    }
   ],
   "source": [
    "env.portfolioHistory"
   ]
  },
  {
   "cell_type": "code",
   "execution_count": 181,
   "metadata": {},
   "outputs": [],
   "source": [
    "a = pd.DataFrame(actions, columns = [\"Index\"])"
   ]
  },
  {
   "cell_type": "code",
   "execution_count": 182,
   "metadata": {},
   "outputs": [
    {
     "data": {
      "text/plain": [
       "2    3941\n",
       "4      63\n",
       "7      53\n",
       "5      50\n",
       "6      46\n",
       "3      44\n",
       "0      43\n",
       "1      36\n",
       "Name: Index, dtype: int64"
      ]
     },
     "execution_count": 182,
     "metadata": {},
     "output_type": "execute_result"
    }
   ],
   "source": [
    "a.Index.value_counts()"
   ]
  },
  {
   "cell_type": "code",
   "execution_count": 183,
   "metadata": {},
   "outputs": [
    {
     "data": {
      "text/plain": [
       "[<matplotlib.lines.Line2D at 0x15599a390>]"
      ]
     },
     "execution_count": 183,
     "metadata": {},
     "output_type": "execute_result"
    },
    {
     "data": {
      "image/png": "[encoded data removed]",
      "text/plain": [
       "<Figure size 432x288 with 1 Axes>"
      ]
     },
     "metadata": {
      "needs_background": "light"
     },
     "output_type": "display_data"
    }
   ],
   "source": [
    "import matplotlib.pyplot as plt\n",
    "plt.plot(env.portfolioHistory[\"AUM\"])"
   ]
  },
  {
   "cell_type": "code",
   "execution_count": null,
   "metadata": {},
   "outputs": [],
   "source": []
  },
  {
   "cell_type": "code",
   "execution_count": null,
   "metadata": {},
   "outputs": [],
   "source": []
  },
  {
   "cell_type": "code",
   "execution_count": 148,
   "metadata": {},
   "outputs": [
    {
     "data": {
      "text/plain": [
       "[1306, 1313, 3781, 3791, 3871]"
      ]
     },
     "execution_count": 148,
     "metadata": {},
     "output_type": "execute_result"
    }
   ],
   "source": [
    "[immediate_reward.index(item) for item in immediate_reward if item > 0.05 ]"
   ]
  },
  {
   "cell_type": "code",
   "execution_count": 97,
   "metadata": {},
   "outputs": [
    {
     "ename": "ValueError",
     "evalue": "Error when checking input: expected dense_27_input to have shape (72,) but got array with shape (1,)",
     "output_type": "error",
     "traceback": [
      "\u001b[0;31m---------------------------------------------------------------------------\u001b[0m",
      "\u001b[0;31mValueError\u001b[0m                                Traceback (most recent call last)",
      "\u001b[0;32m<ipython-input-97-f02bfd21cac8>\u001b[0m in \u001b[0;36m<module>\u001b[0;34m\u001b[0m\n\u001b[0;32m----> 1\u001b[0;31m \u001b[0mQNetwork\u001b[0m\u001b[0;34m.\u001b[0m\u001b[0mpredict\u001b[0m\u001b[0;34m(\u001b[0m\u001b[0menv\u001b[0m\u001b[0;34m.\u001b[0m\u001b[0mcurrentState\u001b[0m\u001b[0;34m)\u001b[0m\u001b[0;34m\u001b[0m\u001b[0;34m\u001b[0m\u001b[0m\n\u001b[0m",
      "\u001b[0;32m~/anaconda3/envs/TENSORFLOW/lib/python3.7/site-packages/tensorflow/python/keras/engine/training.py\u001b[0m in \u001b[0;36mpredict\u001b[0;34m(self, x, batch_size, verbose, steps, callbacks, max_queue_size, workers, use_multiprocessing)\u001b[0m\n\u001b[1;32m   1058\u001b[0m     \u001b[0;31m# generate symbolic tensors).\u001b[0m\u001b[0;34m\u001b[0m\u001b[0;34m\u001b[0m\u001b[0;34m\u001b[0m\u001b[0m\n\u001b[1;32m   1059\u001b[0m     x, _, _ = self._standardize_user_data(\n\u001b[0;32m-> 1060\u001b[0;31m         x, check_steps=True, steps_name='steps', steps=steps)\n\u001b[0m\u001b[1;32m   1061\u001b[0m \u001b[0;34m\u001b[0m\u001b[0m\n\u001b[1;32m   1062\u001b[0m     \u001b[0;32mif\u001b[0m \u001b[0mself\u001b[0m\u001b[0;34m.\u001b[0m\u001b[0mrun_eagerly\u001b[0m\u001b[0;34m:\u001b[0m\u001b[0;34m\u001b[0m\u001b[0;34m\u001b[0m\u001b[0m\n",
      "\u001b[0;32m~/anaconda3/envs/TENSORFLOW/lib/python3.7/site-packages/tensorflow/python/keras/engine/training.py\u001b[0m in \u001b[0;36m_standardize_user_data\u001b[0;34m(self, x, y, sample_weight, class_weight, batch_size, check_steps, steps_name, steps, validation_split, shuffle, extract_tensors_from_dataset)\u001b[0m\n\u001b[1;32m   2649\u001b[0m           \u001b[0mfeed_input_shapes\u001b[0m\u001b[0;34m,\u001b[0m\u001b[0;34m\u001b[0m\u001b[0;34m\u001b[0m\u001b[0m\n\u001b[1;32m   2650\u001b[0m           \u001b[0mcheck_batch_axis\u001b[0m\u001b[0;34m=\u001b[0m\u001b[0;32mFalse\u001b[0m\u001b[0;34m,\u001b[0m  \u001b[0;31m# Don't enforce the batch size.\u001b[0m\u001b[0;34m\u001b[0m\u001b[0;34m\u001b[0m\u001b[0m\n\u001b[0;32m-> 2651\u001b[0;31m           exception_prefix='input')\n\u001b[0m\u001b[1;32m   2652\u001b[0m \u001b[0;34m\u001b[0m\u001b[0m\n\u001b[1;32m   2653\u001b[0m     \u001b[0;32mif\u001b[0m \u001b[0my\u001b[0m \u001b[0;32mis\u001b[0m \u001b[0;32mnot\u001b[0m \u001b[0;32mNone\u001b[0m\u001b[0;34m:\u001b[0m\u001b[0;34m\u001b[0m\u001b[0;34m\u001b[0m\u001b[0m\n",
      "\u001b[0;32m~/anaconda3/envs/TENSORFLOW/lib/python3.7/site-packages/tensorflow/python/keras/engine/training_utils.py\u001b[0m in \u001b[0;36mstandardize_input_data\u001b[0;34m(data, names, shapes, check_batch_axis, exception_prefix)\u001b[0m\n\u001b[1;32m    383\u001b[0m                              \u001b[0;34m': expected '\u001b[0m \u001b[0;34m+\u001b[0m \u001b[0mnames\u001b[0m\u001b[0;34m[\u001b[0m\u001b[0mi\u001b[0m\u001b[0;34m]\u001b[0m \u001b[0;34m+\u001b[0m \u001b[0;34m' to have shape '\u001b[0m \u001b[0;34m+\u001b[0m\u001b[0;34m\u001b[0m\u001b[0;34m\u001b[0m\u001b[0m\n\u001b[1;32m    384\u001b[0m                              \u001b[0mstr\u001b[0m\u001b[0;34m(\u001b[0m\u001b[0mshape\u001b[0m\u001b[0;34m)\u001b[0m \u001b[0;34m+\u001b[0m \u001b[0;34m' but got array with shape '\u001b[0m \u001b[0;34m+\u001b[0m\u001b[0;34m\u001b[0m\u001b[0;34m\u001b[0m\u001b[0m\n\u001b[0;32m--> 385\u001b[0;31m                              str(data_shape))\n\u001b[0m\u001b[1;32m    386\u001b[0m   \u001b[0;32mreturn\u001b[0m \u001b[0mdata\u001b[0m\u001b[0;34m\u001b[0m\u001b[0;34m\u001b[0m\u001b[0m\n\u001b[1;32m    387\u001b[0m \u001b[0;34m\u001b[0m\u001b[0m\n",
      "\u001b[0;31mValueError\u001b[0m: Error when checking input: expected dense_27_input to have shape (72,) but got array with shape (1,)"
     ]
    }
   ],
   "source": [
    "QNetwork.predict(env.currentState)"
   ]
  },
  {
   "cell_type": "code",
   "execution_count": 88,
   "metadata": {},
   "outputs": [
    {
     "data": {
      "text/plain": [
       "72"
      ]
     },
     "execution_count": 88,
     "metadata": {},
     "output_type": "execute_result"
    }
   ],
   "source": [
    "len(env.currentState)"
   ]
  },
  {
   "cell_type": "code",
   "execution_count": null,
   "metadata": {},
   "outputs": [],
   "source": []
  }
 ],
 "metadata": {
  "kernelspec": {
   "display_name": "Python(porto)",
   "language": "python",
   "name": "porto"
  },
  "language_info": {
   "codemirror_mode": {
    "name": "ipython",
    "version": 3
   },
   "file_extension": ".py",
   "mimetype": "text/x-python",
   "name": "python",
   "nbconvert_exporter": "python",
   "pygments_lexer": "ipython3",
   "version": "3.6.13"
  }
 },
 "nbformat": 4,
 "nbformat_minor": 2
}
