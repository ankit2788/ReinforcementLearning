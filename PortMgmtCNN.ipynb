{
 "cells": [
  {
   "cell_type": "code",
   "execution_count": 1,
   "metadata": {},
   "outputs": [],
   "source": [
    "import pandas as pd\n",
    "import numpy as np\n",
    "import matplotlib.pyplot as plt\n",
    "import os\n",
    "import sys\n",
    "from importlib import reload\n",
    "from datetime import datetime\n",
    "import tensorflow as tf\n",
    "import time\n",
    "\n",
    "\n",
    "# get the relative path\n",
    "pref                = os.getcwd()\n",
    "\n",
    "os.environ[\"RL_PATH\"]   = pref\n",
    "\n",
    "if f'{pref}/RLLibrary' not in sys.path:\n",
    "    sys.path.append(f'{pref}/RLLibrary')\n"
   ]
  },
  {
   "cell_type": "code",
   "execution_count": 3,
   "metadata": {},
   "outputs": [],
   "source": [
    "from RLLibrary.FinUseCases.PortfolioManagement import DataManager, EnvironmentManager\n",
    "from RLLibrary.utils import constants"
   ]
  },
  {
   "cell_type": "code",
   "execution_count": 4,
   "metadata": {},
   "outputs": [
    {
     "data": {
      "text/plain": [
       "<module 'RLLibrary.FinUseCases.PortfolioManagement.EnvironmentManager' from '/Users/ankitgupta/Documents/git/anks/MachineLearning/ReinforcementLearning/RLLibrary/FinUseCases/PortfolioManagement/EnvironmentManager.py'>"
      ]
     },
     "execution_count": 4,
     "metadata": {},
     "output_type": "execute_result"
    }
   ],
   "source": [
    "reload(DataManager)\n",
    "reload(EnvironmentManager)"
   ]
  },
  {
   "cell_type": "code",
   "execution_count": 8,
   "metadata": {},
   "outputs": [],
   "source": [
    "assets = [\"APA\", \"BMY\"]\n",
    "initialWeight = [0.5, 0.5]\n",
    "actions = [\n",
    "    [-0.03, 0.03], \n",
    "    [-0.02, 0.02], \n",
    "    [-0.01, 0.01], \n",
    "    [0.0, 0.0], \n",
    "    [0.01, -0.01], \n",
    "    [0.02, -0.02], \n",
    "    [0.03, -0.03], \n",
    "]\n",
    "\n",
    "DATA_DIR = constants.DATA_DIR\n",
    "\n",
    "env = EnvironmentManager.Portfolio_MultiStage(assets, initialWeight, \\\n",
    "                    nhistoricalDays = 5, \\\n",
    "                    startDate = \"2019-01-01\", endDate = \"2019-12-31\", \\\n",
    "                    actions = actions, \\\n",
    "                    assetDataPath = os.path.join(DATA_DIR, \"PortfolioManagement\"), \\\n",
    "                    config = {\"initialCash\": 1000000, \"minCash\": 0.02, \"transactionFee\": 0.0000}, \\\n",
    "                    penalizeFactors = {\"Risk\": -0.08, \"ForbiddenAction\": -8})"
   ]
  },
  {
   "cell_type": "code",
   "execution_count": 9,
   "metadata": {},
   "outputs": [
    {
     "data": {
      "text/plain": [
       "(array([[[0.8807518 , 0.95138445, 0.91065977],\n",
       "         [0.9176928 , 0.97294464, 0.94009104],\n",
       "         [0.93745945, 0.99758479, 0.95549118],\n",
       "         [0.95139339, 1.01298493, 0.98389582],\n",
       "         [1.        , 1.0585008 , 1.00785157]],\n",
       " \n",
       "        [[0.95633752, 1.08474034, 1.00911376],\n",
       "         [0.99385337, 1.08314581, 1.04464917],\n",
       "         [1.02607043, 1.11025298, 1.05603872],\n",
       "         [1.01716826, 1.11344204, 1.07061732],\n",
       "         [1.        , 1.09339641, 1.0646948 ]]]),\n",
       " array([0.4899998 , 0.49001075]),\n",
       " 0.019989450000000002,\n",
       " [1, 1, 1, 1, 1, 1, 1])"
      ]
     },
     "execution_count": 9,
     "metadata": {},
     "output_type": "execute_result"
    }
   ],
   "source": [
    "env.observation_space.currentState"
   ]
  },
  {
   "cell_type": "code",
   "execution_count": 10,
   "metadata": {},
   "outputs": [
    {
     "data": {
      "text/plain": [
       "0.74"
      ]
     },
     "execution_count": 10,
     "metadata": {},
     "output_type": "execute_result"
    }
   ],
   "source": [
    "next_state, reward, done, _ = env.step(actions[0])\n",
    "reward"
   ]
  },
  {
   "cell_type": "code",
   "execution_count": 14,
   "metadata": {},
   "outputs": [],
   "source": [
    "from RLLibrary.FinUseCases.PortfolioManagement import StrategyManager"
   ]
  },
  {
   "cell_type": "code",
   "execution_count": 17,
   "metadata": {},
   "outputs": [],
   "source": [
    "from RLLibrary.FinUseCases.PortfolioManagement.ModelManager.A3C import Agent, Networks"
   ]
  },
  {
   "cell_type": "code",
   "execution_count": 32,
   "metadata": {},
   "outputs": [
    {
     "data": {
      "text/plain": [
       "<module 'RLLibrary.FinUseCases.PortfolioManagement.ModelManager.A3C.Networks' from '/Users/ankitgupta/Documents/git/anks/MachineLearning/ReinforcementLearning/RLLibrary/FinUseCases/PortfolioManagement/ModelManager/A3C/Networks.py'>"
      ]
     },
     "execution_count": 32,
     "metadata": {},
     "output_type": "execute_result"
    }
   ],
   "source": [
    "reload(Agent)\n",
    "reload(Networks)"
   ]
  },
  {
   "cell_type": "code",
   "execution_count": 33,
   "metadata": {},
   "outputs": [],
   "source": [
    "net1 = Networks.ActorCritic_CNN(nbHistory=env.nbHistory, action_size=len(actions))\n"
   ]
  },
  {
   "cell_type": "code",
   "execution_count": 34,
   "metadata": {},
   "outputs": [
    {
     "name": "stdout",
     "output_type": "stream",
     "text": [
      "WARNING:tensorflow:Layer actor_critic_cnn_3 is casting an input tensor from dtype float64 to the layer's dtype of float32, which is new behavior in TensorFlow 2.  The layer has dtype float32 because it's dtype defaults to floatx.\n",
      "\n",
      "If you intended to run this layer in float32, you can safely ignore this warning. If in doubt, this warning is likely only an issue if you are porting a TensorFlow 1.X model to TensorFlow 2.\n",
      "\n",
      "To change all layers to have dtype float64 by default, call `tf.keras.backend.set_floatx('float64')`. To change just this layer, pass dtype='float64' to the layer constructor. If you are the author of this layer, you can disable autocasting by passing autocast=False to the base Layer constructor.\n",
      "\n"
     ]
    },
    {
     "name": "stderr",
     "output_type": "stream",
     "text": [
      "/Users/ankitgupta/Documents/git/anks/MachineLearning/ReinforcementLearning/RLLibrary/FinUseCases/PortfolioManagement/ModelManager/A3C/Networks.py:114: VisibleDeprecationWarning: Creating an ndarray from ragged nested sequences (which is a list-or-tuple of lists-or-tuples-or ndarrays with different lengths or shapes) is deprecated. If you meant to do this, you must specify 'dtype=object' when creating the ndarray\n",
      "  if len(np.array(inputs).shape) == 1:\n"
     ]
    }
   ],
   "source": [
    "probs, _value = net1(env.observation_space.currentState)"
   ]
  },
  {
   "cell_type": "code",
   "execution_count": 35,
   "metadata": {},
   "outputs": [
    {
     "data": {
      "text/plain": [
       "(<tf.Tensor: id=781, shape=(1, 7), dtype=float32, numpy=\n",
       " array([[0.08424149, 0.11817581, 0.1477979 , 0.18873116, 0.1857955 ,\n",
       "         0.1140119 , 0.16124621]], dtype=float32)>,\n",
       " <tf.Tensor: id=925, shape=(1, 1), dtype=float32, numpy=array([[0.06925955]], dtype=float32)>)"
      ]
     },
     "execution_count": 35,
     "metadata": {},
     "output_type": "execute_result"
    }
   ],
   "source": [
    "probs, _value"
   ]
  },
  {
   "cell_type": "code",
   "execution_count": 36,
   "metadata": {},
   "outputs": [
    {
     "data": {
      "text/plain": [
       "[<tf.Variable 'actor_critic_cnn_3/conv2d_18/kernel:0' shape=(1, 3, 3, 2) dtype=float32, numpy=\n",
       " array([[[[ 0.08099592,  0.1868748 ],\n",
       "          [ 0.1619997 ,  0.5966608 ],\n",
       "          [-0.5802035 ,  0.33725786]],\n",
       " \n",
       "         [[-0.31821728,  0.06201684],\n",
       "          [ 0.17423236, -0.18781966],\n",
       "          [-0.5456334 , -0.0275774 ]],\n",
       " \n",
       "         [[-0.5382782 ,  0.6026153 ],\n",
       "          [-0.15790746,  0.24871176],\n",
       "          [-0.49932683, -0.5319152 ]]]], dtype=float32)>,\n",
       " <tf.Variable 'actor_critic_cnn_3/conv2d_18/bias:0' shape=(2,) dtype=float32, numpy=array([0., 0.], dtype=float32)>,\n",
       " <tf.Variable 'actor_critic_cnn_3/conv2d_19/kernel:0' shape=(1, 3, 2, 20) dtype=float32, numpy=\n",
       " array([[[[ 0.05870089, -0.08310859, -0.30029064, -0.20493342,\n",
       "           -0.10290661, -0.11607353, -0.05815081,  0.05793327,\n",
       "           -0.14832018,  0.0891355 , -0.0438318 ,  0.05990604,\n",
       "            0.21816361, -0.09160544, -0.09452206, -0.19419691,\n",
       "           -0.2892624 ,  0.05287632, -0.29903919,  0.1687597 ],\n",
       "          [ 0.2737971 , -0.17416525, -0.2624305 , -0.2695889 ,\n",
       "           -0.18264513, -0.21858397, -0.14382932,  0.07161108,\n",
       "           -0.2783922 , -0.18409327, -0.2868991 ,  0.10528633,\n",
       "           -0.12834251,  0.29760027, -0.2984314 , -0.0942706 ,\n",
       "           -0.15837644,  0.12840894,  0.17293629,  0.12464663]],\n",
       " \n",
       "         [[-0.29524785,  0.2299903 , -0.21719788, -0.06483468,\n",
       "           -0.00657535, -0.04649457,  0.00742179,  0.28201193,\n",
       "           -0.17925447,  0.00785828, -0.06695662, -0.14936842,\n",
       "            0.09830397, -0.25532126, -0.10628569, -0.17721155,\n",
       "            0.14864689, -0.16496658, -0.3001739 , -0.10345669],\n",
       "          [-0.07432945,  0.17897433,  0.21066058, -0.20069957,\n",
       "           -0.1131587 , -0.0300025 , -0.00432831, -0.08949566,\n",
       "           -0.21985622,  0.29977018,  0.27218688,  0.04604179,\n",
       "            0.07506126,  0.12712225, -0.10683402, -0.04209387,\n",
       "           -0.1001792 , -0.09058213,  0.23815447,  0.13538575]],\n",
       " \n",
       "         [[ 0.16816694, -0.11617079,  0.27878153,  0.2799883 ,\n",
       "           -0.17417388,  0.08609021, -0.01613572,  0.2177341 ,\n",
       "           -0.09248424,  0.24332857, -0.2537589 ,  0.04094851,\n",
       "            0.02756768,  0.00589386, -0.18697137, -0.0380367 ,\n",
       "           -0.16210912, -0.03571466,  0.21084446, -0.23232281],\n",
       "          [ 0.26307654,  0.04982081, -0.25736046,  0.14124948,\n",
       "            0.21689075, -0.0385069 , -0.19222939, -0.02189967,\n",
       "           -0.08540894,  0.21227384,  0.02122337,  0.17421356,\n",
       "           -0.22200143,  0.07787421,  0.16161203,  0.17702782,\n",
       "           -0.01448041,  0.2957508 , -0.17233899, -0.07396887]]]],\n",
       "       dtype=float32)>,\n",
       " <tf.Variable 'actor_critic_cnn_3/conv2d_19/bias:0' shape=(20,) dtype=float32, numpy=\n",
       " array([0., 0., 0., 0., 0., 0., 0., 0., 0., 0., 0., 0., 0., 0., 0., 0., 0.,\n",
       "        0., 0., 0.], dtype=float32)>,\n",
       " <tf.Variable 'actor_critic_cnn_3/conv2d_20/kernel:0' shape=(1, 1, 21, 1) dtype=float32, numpy=\n",
       " array([[[[ 0.3136012 ],\n",
       "          [ 0.00599414],\n",
       "          [ 0.5060294 ],\n",
       "          [ 0.44740778],\n",
       "          [ 0.33621585],\n",
       "          [ 0.00560719],\n",
       "          [ 0.27873164],\n",
       "          [ 0.45529163],\n",
       "          [-0.1327247 ],\n",
       "          [ 0.38295168],\n",
       "          [ 0.24350464],\n",
       "          [-0.24781519],\n",
       "          [-0.3998306 ],\n",
       "          [ 0.48528212],\n",
       "          [ 0.2982129 ],\n",
       "          [ 0.42973495],\n",
       "          [-0.07330751],\n",
       "          [-0.2946449 ],\n",
       "          [ 0.04696792],\n",
       "          [ 0.39681202],\n",
       "          [ 0.30966246]]]], dtype=float32)>,\n",
       " <tf.Variable 'actor_critic_cnn_3/conv2d_20/bias:0' shape=(1,) dtype=float32, numpy=array([0.], dtype=float32)>,\n",
       " <tf.Variable 'actor_critic_cnn_3/dense_12/kernel:0' shape=(3, 32) dtype=float32, numpy=\n",
       " array([[-0.31917673,  0.20327303, -0.03750694, -0.08516568,  0.17102948,\n",
       "         -0.36797267, -0.2690879 ,  0.4096515 , -0.08899701, -0.31215593,\n",
       "         -0.13717479,  0.13229671,  0.18579051, -0.37231225, -0.13103268,\n",
       "         -0.20859742, -0.17813112,  0.0432927 , -0.22017834,  0.06374392,\n",
       "          0.05046314, -0.1403707 ,  0.16092852,  0.09496477,  0.34740475,\n",
       "          0.04926801, -0.05896199, -0.27900922, -0.29995382,  0.22275344,\n",
       "         -0.2638716 , -0.29807407],\n",
       "        [-0.30129743, -0.34277782,  0.06402239, -0.20407264,  0.0024581 ,\n",
       "         -0.09110427,  0.09674421, -0.3303594 ,  0.2556788 , -0.3767171 ,\n",
       "         -0.1574794 ,  0.07126093, -0.21097527,  0.25582054, -0.3563407 ,\n",
       "          0.03788364,  0.29999587, -0.05636984,  0.14663228,  0.11543092,\n",
       "         -0.26742634,  0.20816615,  0.26594648,  0.32930288, -0.17941046,\n",
       "         -0.33426496,  0.08942613, -0.17075081, -0.40950638,  0.36877474,\n",
       "         -0.05719537, -0.03764138],\n",
       "        [ 0.26623967,  0.34212217, -0.25097308,  0.2802151 ,  0.3780767 ,\n",
       "         -0.35904786, -0.23996095, -0.25948268, -0.05155057, -0.03972119,\n",
       "         -0.3608883 , -0.16936842, -0.33284444,  0.30884346,  0.17495766,\n",
       "          0.16210738, -0.28644076,  0.39647487, -0.02445763, -0.20907857,\n",
       "         -0.3242149 ,  0.05970401, -0.26557118,  0.3452898 , -0.3979142 ,\n",
       "         -0.16613828,  0.34371206, -0.1027835 , -0.12441286,  0.3609654 ,\n",
       "          0.08394963, -0.27405187]], dtype=float32)>,\n",
       " <tf.Variable 'actor_critic_cnn_3/dense_12/bias:0' shape=(32,) dtype=float32, numpy=\n",
       " array([0., 0., 0., 0., 0., 0., 0., 0., 0., 0., 0., 0., 0., 0., 0., 0., 0.,\n",
       "        0., 0., 0., 0., 0., 0., 0., 0., 0., 0., 0., 0., 0., 0., 0.],\n",
       "       dtype=float32)>,\n",
       " <tf.Variable 'actor_critic_cnn_3/dense_13/kernel:0' shape=(32, 7) dtype=float32, numpy=\n",
       " array([[-0.1671572 ,  0.20067659, -0.32458395,  0.20008823,  0.17897007,\n",
       "         -0.3238273 , -0.17522384],\n",
       "        [ 0.16365   ,  0.33593425,  0.24381068,  0.20318845,  0.3795803 ,\n",
       "          0.12140831,  0.15705857],\n",
       "        [-0.26707298, -0.26978993, -0.00788924,  0.3376195 ,  0.01690134,\n",
       "         -0.19855343,  0.23977306],\n",
       "        [-0.37258962,  0.11202815,  0.07834119, -0.21653879,  0.30691323,\n",
       "          0.24085262, -0.31964135],\n",
       "        [-0.16152439, -0.15176567,  0.2626656 ,  0.30525455,  0.35260966,\n",
       "         -0.31623656,  0.27430496],\n",
       "        [-0.3455934 ,  0.11943194,  0.24779353,  0.3009477 ,  0.21242496,\n",
       "         -0.22367467,  0.10290283],\n",
       "        [ 0.27061346, -0.08133218,  0.28258672, -0.21490629,  0.10452121,\n",
       "         -0.12745586,  0.02784181],\n",
       "        [ 0.18176898,  0.3575395 , -0.07109401, -0.12312543,  0.10722089,\n",
       "         -0.09685546, -0.05658594],\n",
       "        [-0.26788777, -0.16600509, -0.33807456,  0.35376522,  0.31526616,\n",
       "          0.35954013, -0.12783834],\n",
       "        [-0.3489408 , -0.13567615,  0.085008  ,  0.10923174,  0.13162705,\n",
       "         -0.2216899 ,  0.0095095 ],\n",
       "        [-0.01530597,  0.38958052, -0.18455033,  0.37390062,  0.11161372,\n",
       "          0.10537031,  0.34506735],\n",
       "        [ 0.30550995, -0.28217262,  0.07576567,  0.08012938, -0.17293964,\n",
       "         -0.14642857, -0.21309125],\n",
       "        [-0.27666587, -0.35267887, -0.0767948 ,  0.24445191,  0.20299271,\n",
       "          0.09276387, -0.22646667],\n",
       "        [-0.15654984, -0.07883382, -0.35770926, -0.06040716, -0.21327557,\n",
       "         -0.07978719,  0.2740433 ],\n",
       "        [-0.37952286,  0.26097825,  0.09468675,  0.0111002 , -0.11328351,\n",
       "         -0.23921162, -0.24319565],\n",
       "        [ 0.03607172,  0.14302018, -0.3236514 ,  0.3359038 ,  0.30644026,\n",
       "          0.21314183, -0.13550445],\n",
       "        [ 0.11360607,  0.12851867,  0.08194068, -0.03333002, -0.29848227,\n",
       "         -0.00826928,  0.11312059],\n",
       "        [-0.00834054,  0.3345755 ,  0.3622906 , -0.03753701,  0.19016191,\n",
       "          0.06973895,  0.15072337],\n",
       "        [ 0.14188579, -0.20224215,  0.24610773,  0.2861217 , -0.3793635 ,\n",
       "          0.0251911 ,  0.22798976],\n",
       "        [-0.25509793, -0.1756975 ,  0.11340669, -0.15069643,  0.04139423,\n",
       "          0.3657644 ,  0.09175158],\n",
       "        [ 0.02170485,  0.08054402, -0.04211909, -0.38499427,  0.04197964,\n",
       "          0.0023593 , -0.37530616],\n",
       "        [-0.17815836,  0.31490114,  0.05074477, -0.24781999,  0.37250677,\n",
       "         -0.15417539,  0.3274744 ],\n",
       "        [-0.19611773,  0.1960896 ,  0.13731596, -0.30256358,  0.16070369,\n",
       "         -0.0271107 ,  0.20005396],\n",
       "        [-0.0413675 , -0.34237552, -0.19534191,  0.03675598, -0.04984954,\n",
       "         -0.08932614,  0.00242326],\n",
       "        [-0.29630056, -0.09078547,  0.07426688,  0.26016125, -0.0498471 ,\n",
       "         -0.36289254, -0.30527785],\n",
       "        [ 0.04834235,  0.11853889, -0.3644145 , -0.3201785 , -0.2673247 ,\n",
       "         -0.03751168,  0.06856909],\n",
       "        [-0.32169327,  0.3751168 ,  0.18289915,  0.09712124, -0.0877969 ,\n",
       "          0.26407543, -0.06162483],\n",
       "        [-0.37383243,  0.22686008, -0.1406149 ,  0.11703691, -0.16248639,\n",
       "         -0.23429082, -0.01333138],\n",
       "        [-0.31736612,  0.3713797 , -0.34693685, -0.15694082, -0.11799285,\n",
       "          0.00510445,  0.28438184],\n",
       "        [-0.37481755, -0.35774058,  0.23860058,  0.2687793 ,  0.21652111,\n",
       "         -0.3815023 , -0.16334261],\n",
       "        [ 0.17283013,  0.33254293, -0.20042616, -0.35854977,  0.22182295,\n",
       "         -0.3565091 , -0.12885767],\n",
       "        [ 0.0898965 , -0.3502313 , -0.27506816, -0.19611828,  0.18881115,\n",
       "          0.26170018, -0.02833536]], dtype=float32)>,\n",
       " <tf.Variable 'actor_critic_cnn_3/dense_13/bias:0' shape=(7,) dtype=float32, numpy=array([0., 0., 0., 0., 0., 0., 0.], dtype=float32)>,\n",
       " <tf.Variable 'actor_critic_cnn_3/conv2d_21/kernel:0' shape=(1, 3, 3, 2) dtype=float32, numpy=\n",
       " array([[[[ 0.6128761 ,  0.10122114],\n",
       "          [ 0.022497  , -0.21888432],\n",
       "          [ 0.07873666, -0.29918814]],\n",
       " \n",
       "         [[ 0.52602166, -0.43348956],\n",
       "          [ 0.4454767 , -0.5206292 ],\n",
       "          [ 0.40080017,  0.18715751]],\n",
       " \n",
       "         [[ 0.5690493 ,  0.2406925 ],\n",
       "          [ 0.5044052 ,  0.04035103],\n",
       "          [-0.04504448, -0.25976446]]]], dtype=float32)>,\n",
       " <tf.Variable 'actor_critic_cnn_3/conv2d_21/bias:0' shape=(2,) dtype=float32, numpy=array([0., 0.], dtype=float32)>,\n",
       " <tf.Variable 'actor_critic_cnn_3/conv2d_22/kernel:0' shape=(1, 3, 2, 20) dtype=float32, numpy=\n",
       " array([[[[ 0.08143932,  0.08108234,  0.06086099, -0.22987437,\n",
       "           -0.14082262, -0.09527083, -0.09620994, -0.08726712,\n",
       "           -0.2921403 , -0.29369432, -0.12755083,  0.2797829 ,\n",
       "            0.24857193,  0.12158582,  0.28847623, -0.18624143,\n",
       "           -0.1459325 , -0.17722471, -0.28355533,  0.19366565],\n",
       "          [ 0.2103898 , -0.10963716,  0.09451443, -0.294459  ,\n",
       "           -0.13942696,  0.1358344 , -0.1866928 ,  0.04388815,\n",
       "           -0.12583987,  0.18330353, -0.03743443,  0.23240227,\n",
       "           -0.26933256,  0.29737574,  0.05056211, -0.20322749,\n",
       "            0.04573569,  0.2442689 , -0.08854102,  0.09739068]],\n",
       " \n",
       "         [[-0.06151032, -0.08791129,  0.11655056,  0.29463792,\n",
       "            0.22970062, -0.19608736, -0.09962919,  0.06592527,\n",
       "           -0.01244631,  0.25635552, -0.03405637, -0.0843983 ,\n",
       "            0.01004225, -0.27135673, -0.19384977,  0.00649863,\n",
       "            0.08707309, -0.15019992, -0.28122377,  0.07351598],\n",
       "          [ 0.17095512, -0.04418388, -0.14929646,  0.16678983,\n",
       "            0.07619029, -0.22033174,  0.28665608,  0.10609204,\n",
       "            0.22857964,  0.14631838,  0.2925387 , -0.13575718,\n",
       "           -0.22664419, -0.00572902, -0.2246559 ,  0.09062707,\n",
       "            0.23453861,  0.08541089, -0.02740103, -0.29667693]],\n",
       " \n",
       "         [[-0.13660242, -0.02389386,  0.1782245 , -0.1366518 ,\n",
       "            0.02553645,  0.13404724, -0.0330663 ,  0.18163133,\n",
       "            0.1442188 ,  0.1874297 , -0.05505849,  0.28362364,\n",
       "            0.00390312, -0.17858085, -0.16429985,  0.00105292,\n",
       "            0.22571182, -0.15650992,  0.06226945,  0.05825454],\n",
       "          [ 0.14202562,  0.0601764 ,  0.29460686,  0.16460249,\n",
       "           -0.00650918, -0.26957166,  0.02956638, -0.11873195,\n",
       "           -0.26019716, -0.11070876, -0.15497157,  0.08726689,\n",
       "           -0.07923084,  0.07102793,  0.14121994,  0.20080435,\n",
       "           -0.23451728, -0.03997037, -0.08234538, -0.08755329]]]],\n",
       "       dtype=float32)>,\n",
       " <tf.Variable 'actor_critic_cnn_3/conv2d_22/bias:0' shape=(20,) dtype=float32, numpy=\n",
       " array([0., 0., 0., 0., 0., 0., 0., 0., 0., 0., 0., 0., 0., 0., 0., 0., 0.,\n",
       "        0., 0., 0.], dtype=float32)>,\n",
       " <tf.Variable 'actor_critic_cnn_3/conv2d_23/kernel:0' shape=(1, 1, 21, 1) dtype=float32, numpy=\n",
       " array([[[[ 0.20626831],\n",
       "          [-0.3737058 ],\n",
       "          [ 0.48592776],\n",
       "          [-0.5138745 ],\n",
       "          [-0.5103319 ],\n",
       "          [-0.14224151],\n",
       "          [-0.10095933],\n",
       "          [ 0.3616901 ],\n",
       "          [ 0.14726937],\n",
       "          [ 0.00521535],\n",
       "          [-0.01942879],\n",
       "          [ 0.45785117],\n",
       "          [-0.14665976],\n",
       "          [ 0.14092708],\n",
       "          [ 0.24606472],\n",
       "          [ 0.43528897],\n",
       "          [-0.05579481],\n",
       "          [-0.22326443],\n",
       "          [-0.40700752],\n",
       "          [-0.440808  ],\n",
       "          [ 0.27922058]]]], dtype=float32)>,\n",
       " <tf.Variable 'actor_critic_cnn_3/conv2d_23/bias:0' shape=(1,) dtype=float32, numpy=array([0.], dtype=float32)>,\n",
       " <tf.Variable 'actor_critic_cnn_3/dense_14/kernel:0' shape=(3, 32) dtype=float32, numpy=\n",
       " array([[ 0.17075309, -0.16092032,  0.30542   , -0.3784763 ,  0.32752755,\n",
       "          0.2912    , -0.18061528, -0.18380228, -0.20742252,  0.06636441,\n",
       "         -0.07770297, -0.25149843,  0.16491064,  0.12228683,  0.2927753 ,\n",
       "          0.06929207,  0.00685474,  0.33157942,  0.39422593,  0.38444588,\n",
       "          0.33386084, -0.03439477,  0.15646401,  0.22603735, -0.29363763,\n",
       "         -0.16160816, -0.28261203, -0.03631821,  0.2516012 ,  0.3834838 ,\n",
       "         -0.04634407, -0.37820226],\n",
       "        [-0.3000477 ,  0.0179179 , -0.31183738,  0.10717818, -0.3481861 ,\n",
       "         -0.12923181, -0.30876598,  0.03839499,  0.14536813,  0.2103602 ,\n",
       "          0.27086142, -0.359929  , -0.14259553, -0.16285828,  0.02387443,\n",
       "         -0.18034934, -0.1730412 , -0.39384863,  0.0385839 , -0.14800823,\n",
       "         -0.39545563, -0.39252457, -0.17075239, -0.14607894, -0.1724646 ,\n",
       "          0.33173087,  0.09367982,  0.10673127, -0.1811582 ,  0.37524465,\n",
       "          0.24380794,  0.26309422],\n",
       "        [-0.1309931 ,  0.23056349, -0.20845518,  0.35369495,  0.14195868,\n",
       "         -0.02012801,  0.04713586,  0.31244752,  0.07904211,  0.05289674,\n",
       "         -0.11036152, -0.37234256,  0.14817289, -0.06297532, -0.01795945,\n",
       "          0.24277887, -0.24927153,  0.17079762, -0.1069214 , -0.07504389,\n",
       "         -0.24591157, -0.39638135, -0.36832577, -0.13615763,  0.1111832 ,\n",
       "         -0.14115834, -0.06422979,  0.18570843,  0.15365985,  0.24380758,\n",
       "          0.35150787,  0.11976656]], dtype=float32)>,\n",
       " <tf.Variable 'actor_critic_cnn_3/dense_14/bias:0' shape=(32,) dtype=float32, numpy=\n",
       " array([0., 0., 0., 0., 0., 0., 0., 0., 0., 0., 0., 0., 0., 0., 0., 0., 0.,\n",
       "        0., 0., 0., 0., 0., 0., 0., 0., 0., 0., 0., 0., 0., 0., 0.],\n",
       "       dtype=float32)>,\n",
       " <tf.Variable 'actor_critic_cnn_3/dense_15/kernel:0' shape=(32, 1) dtype=float32, numpy=\n",
       " array([[ 0.4006983 ],\n",
       "        [-0.07082722],\n",
       "        [-0.04460847],\n",
       "        [-0.35752013],\n",
       "        [ 0.07527798],\n",
       "        [-0.3101078 ],\n",
       "        [-0.16235882],\n",
       "        [ 0.41587758],\n",
       "        [-0.19103351],\n",
       "        [-0.3252165 ],\n",
       "        [ 0.27481747],\n",
       "        [-0.10833216],\n",
       "        [ 0.0271036 ],\n",
       "        [ 0.13807756],\n",
       "        [ 0.05498379],\n",
       "        [-0.00827295],\n",
       "        [ 0.03795561],\n",
       "        [ 0.17261308],\n",
       "        [-0.38716835],\n",
       "        [ 0.21203953],\n",
       "        [ 0.22618914],\n",
       "        [-0.22898588],\n",
       "        [-0.33299813],\n",
       "        [-0.152325  ],\n",
       "        [-0.10627139],\n",
       "        [ 0.36799693],\n",
       "        [ 0.40493083],\n",
       "        [-0.08279142],\n",
       "        [-0.07243603],\n",
       "        [ 0.06219247],\n",
       "        [ 0.37825358],\n",
       "        [-0.27872598]], dtype=float32)>,\n",
       " <tf.Variable 'actor_critic_cnn_3/dense_15/bias:0' shape=(1,) dtype=float32, numpy=array([0.], dtype=float32)>]"
      ]
     },
     "execution_count": 36,
     "metadata": {},
     "output_type": "execute_result"
    }
   ],
   "source": [
    "net1.trainable_variables"
   ]
  },
  {
   "cell_type": "code",
   "execution_count": 31,
   "metadata": {},
   "outputs": [
    {
     "ename": "AttributeError",
     "evalue": "'Dummy' object has no attribute 'trainable_variables'",
     "output_type": "error",
     "traceback": [
      "\u001b[0;31m---------------------------------------------------------------------------\u001b[0m",
      "\u001b[0;31mAttributeError\u001b[0m                            Traceback (most recent call last)",
      "\u001b[0;32m<ipython-input-31-47a939bfae6c>\u001b[0m in \u001b[0;36m<module>\u001b[0;34m\u001b[0m\n\u001b[0;32m----> 1\u001b[0;31m \u001b[0mnet1\u001b[0m\u001b[0;34m.\u001b[0m\u001b[0mactor\u001b[0m\u001b[0;34m.\u001b[0m\u001b[0mtrainable_variables\u001b[0m\u001b[0;34m\u001b[0m\u001b[0;34m\u001b[0m\u001b[0m\n\u001b[0m",
      "\u001b[0;31mAttributeError\u001b[0m: 'Dummy' object has no attribute 'trainable_variables'"
     ]
    }
   ],
   "source": [
    "net1.actor.trainable_variables"
   ]
  },
  {
   "cell_type": "code",
   "execution_count": null,
   "metadata": {},
   "outputs": [],
   "source": []
  }
 ],
 "metadata": {
  "kernelspec": {
   "display_name": "Python(porto)",
   "language": "python",
   "name": "porto"
  },
  "language_info": {
   "codemirror_mode": {
    "name": "ipython",
    "version": 3
   },
   "file_extension": ".py",
   "mimetype": "text/x-python",
   "name": "python",
   "nbconvert_exporter": "python",
   "pygments_lexer": "ipython3",
   "version": "3.6.13"
  }
 },
 "nbformat": 4,
 "nbformat_minor": 2
}
