{
 "cells": [
  {
   "cell_type": "code",
   "execution_count": 1,
   "metadata": {},
   "outputs": [],
   "source": [
    "import pandas as pd\n",
    "import numpy as np\n",
    "import os\n",
    "import shutil\n"
   ]
  },
  {
   "cell_type": "code",
   "execution_count": null,
   "metadata": {},
   "outputs": [],
   "source": []
  },
  {
   "cell_type": "code",
   "execution_count": null,
   "metadata": {},
   "outputs": [],
   "source": []
  },
  {
   "cell_type": "code",
   "execution_count": 10,
   "metadata": {},
   "outputs": [],
   "source": [
    "outputpath = '/Users/ankitgupta/Documents/git/anks/MachineLearning/ReinforcementLearning/data/OrderExecution/'\n",
    "ticker = \"RELIANCE\"\n",
    "\n",
    "# dates = []\n",
    "\n",
    "# for subdir, dirs, files in os.walk(outputpath):\n",
    "#     if subdir.split(\"/\")[-1] == \"RELIANCE\":\n",
    "#         for file in files:\n",
    "#             date = int(subdir.split(\"/\")[-1][:2])\n",
    "#             month = subdir.split(\"/\")[-1][2:]\n",
    "#             count += 1\n",
    "\n",
    "#             #print(subdir)\n",
    "#             filename = f'{stock}_{date}{month}{year}.txt'\n",
    "\n",
    "#             shutil.copy(os.path.join(subdir, file), os.path.join(outputpath, filename))\n",
    "\n",
    "#             # save all files in a particular folder\n",
    "#             #print(os.path.join(subdir, file))                \n",
    "\n",
    "dirs = [x[0] for x in os.walk(outputpath)]"
   ]
  },
  {
   "cell_type": "code",
   "execution_count": 11,
   "metadata": {},
   "outputs": [
    {
     "data": {
      "text/plain": [
       "['/Users/ankitgupta/Documents/git/anks/MachineLearning/ReinforcementLearning/data/OrderExecution/',\n",
       " '/Users/ankitgupta/Documents/git/anks/MachineLearning/ReinforcementLearning/data/OrderExecution/2019',\n",
       " '/Users/ankitgupta/Documents/git/anks/MachineLearning/ReinforcementLearning/data/OrderExecution/2019/RELIANCE',\n",
       " '/Users/ankitgupta/Documents/git/anks/MachineLearning/ReinforcementLearning/data/OrderExecution/2019/DLF',\n",
       " '/Users/ankitgupta/Documents/git/anks/MachineLearning/ReinforcementLearning/data/OrderExecution/2019/SBIN',\n",
       " '/Users/ankitgupta/Documents/git/anks/MachineLearning/ReinforcementLearning/data/OrderExecution/2019/YESBANK',\n",
       " '/Users/ankitgupta/Documents/git/anks/MachineLearning/ReinforcementLearning/data/OrderExecution/2019/SAIL',\n",
       " '/Users/ankitgupta/Documents/git/anks/MachineLearning/ReinforcementLearning/data/OrderExecution/2020',\n",
       " '/Users/ankitgupta/Documents/git/anks/MachineLearning/ReinforcementLearning/data/OrderExecution/2020/RELIANCE',\n",
       " '/Users/ankitgupta/Documents/git/anks/MachineLearning/ReinforcementLearning/data/OrderExecution/2020/DLF',\n",
       " '/Users/ankitgupta/Documents/git/anks/MachineLearning/ReinforcementLearning/data/OrderExecution/2020/SBIN',\n",
       " '/Users/ankitgupta/Documents/git/anks/MachineLearning/ReinforcementLearning/data/OrderExecution/2020/YESBANK',\n",
       " '/Users/ankitgupta/Documents/git/anks/MachineLearning/ReinforcementLearning/data/OrderExecution/2020/SAIL',\n",
       " '/Users/ankitgupta/Documents/git/anks/MachineLearning/ReinforcementLearning/data/OrderExecution/2018',\n",
       " '/Users/ankitgupta/Documents/git/anks/MachineLearning/ReinforcementLearning/data/OrderExecution/2018/RELIANCE',\n",
       " '/Users/ankitgupta/Documents/git/anks/MachineLearning/ReinforcementLearning/data/OrderExecution/2018/DLF',\n",
       " '/Users/ankitgupta/Documents/git/anks/MachineLearning/ReinforcementLearning/data/OrderExecution/2018/SBIN',\n",
       " '/Users/ankitgupta/Documents/git/anks/MachineLearning/ReinforcementLearning/data/OrderExecution/2018/YESBANK',\n",
       " '/Users/ankitgupta/Documents/git/anks/MachineLearning/ReinforcementLearning/data/OrderExecution/2018/SAIL']"
      ]
     },
     "execution_count": 11,
     "metadata": {},
     "output_type": "execute_result"
    }
   ],
   "source": [
    "dirs"
   ]
  },
  {
   "cell_type": "code",
   "execution_count": null,
   "metadata": {},
   "outputs": [],
   "source": [
    "dates = []\n",
    "for _dir in dirs[1:]:\n",
    "    \n",
    "    temp = _dir.split(\"/\")[-1]\n",
    "    if temp == \"RELIANCE\":\n",
    "        \n",
    "        dates.append()\n",
    "    if temp == outputpath:\n",
    "        # same path\n",
    "        year = temp[-1]\n",
    "    \n",
    "        \n",
    "    "
   ]
  },
  {
   "cell_type": "code",
   "execution_count": 22,
   "metadata": {},
   "outputs": [
    {
     "data": {
      "text/plain": [
       "('/Users/ankitgupta/Documents/git/anks/MachineLearning/ReinforcementLearning/data/OrderExecution/',\n",
       " 'SAIL')"
      ]
     },
     "execution_count": 22,
     "metadata": {},
     "output_type": "execute_result"
    }
   ],
   "source": [
    "outputpath, item"
   ]
  },
  {
   "cell_type": "code",
   "execution_count": 24,
   "metadata": {},
   "outputs": [],
   "source": [
    "import re"
   ]
  },
  {
   "cell_type": "code",
   "execution_count": 30,
   "metadata": {},
   "outputs": [],
   "source": [
    "a = \"16DEC2019\""
   ]
  },
  {
   "cell_type": "code",
   "execution_count": 31,
   "metadata": {},
   "outputs": [
    {
     "data": {
      "text/plain": [
       "['', '16', 'DEC', '2019', '']"
      ]
     },
     "execution_count": 31,
     "metadata": {},
     "output_type": "execute_result"
    }
   ],
   "source": [
    "details     = re.split('([0-9]+)([A-Z]{3})([0-9]{4})$', a)\n",
    "details"
   ]
  },
  {
   "cell_type": "code",
   "execution_count": 23,
   "metadata": {},
   "outputs": [
    {
     "name": "stdout",
     "output_type": "stream",
     "text": [
      "RELIANCE_6DEC2019.txt\n",
      "RELIANCE_21FEB2019.txt\n",
      "RELIANCE_31DEC2019.txt\n",
      "RELIANCE_25SEP2019.txt\n",
      "RELIANCE_12SEP2019.txt\n",
      "RELIANCE_29JUL2019.txt\n",
      "RELIANCE_14JUN2019.txt\n",
      "RELIANCE_2JUL2019.txt\n",
      "RELIANCE_7MAR2019.txt\n",
      "RELIANCE_27NOV2019.txt\n",
      "RELIANCE_3OCT2019.txt\n",
      "RELIANCE_1NOV2019.txt\n",
      "RELIANCE_24JUL2019.txt\n",
      "RELIANCE_11JAN2019.txt\n",
      "RELIANCE_26AUG2019.txt\n",
      "RELIANCE_25OCT2019.txt\n",
      "RELIANCE_17DEC2019.txt\n",
      "RELIANCE_20DEC2019.txt\n",
      "RELIANCE_3SEP2019.txt\n",
      "RELIANCE_19JUN2019.txt\n",
      "RELIANCE_7FEB2019.txt\n",
      "RELIANCE_17OCT2019.txt\n",
      "RELIANCE_8MAY2019.txt\n",
      "RELIANCE_16JUL2019.txt\n",
      "RELIANCE_13MAR2019.txt\n",
      "RELIANCE_4NOV2019.txt\n",
      "RELIANCE_14AUG2019.txt\n",
      "RELIANCE_23AUG2019.txt\n",
      "RELIANCE_14JAN2019.txt\n",
      "RELIANCE_23JAN2019.txt\n",
      "RELIANCE_6SEP2019.txt\n",
      "RELIANCE_18NOV2019.txt\n",
      "RELIANCE_14MAY2019.txt\n",
      "RELIANCE_25APR2019.txt\n",
      "RELIANCE_12APR2019.txt\n",
      "RELIANCE_23MAY2019.txt\n",
      "RELIANCE_8JAN2019.txt\n",
      "RELIANCE_8AUG2019.txt\n",
      "RELIANCE_12DEC2019.txt\n",
      "RELIANCE_19AUG2019.txt\n",
      "RELIANCE_13FEB2019.txt\n",
      "RELIANCE_3APR2019.txt\n",
      "RELIANCE_29MAR2019.txt\n",
      "RELIANCE_17SEP2019.txt\n",
      "RELIANCE_20SEP2019.txt\n",
      "RELIANCE_3DEC2019.txt\n",
      "RELIANCE_30JUL2019.txt\n",
      "RELIANCE_26JUN2019.txt\n",
      "RELIANCE_11JUN2019.txt\n",
      "RELIANCE_5AUG2019.txt\n",
      "RELIANCE_31OCT2019.txt\n",
      "RELIANCE_22NOV2019.txt\n",
      "RELIANCE_15NOV2019.txt\n",
      "RELIANCE_2AUG2019.txt\n",
      "RELIANCE_21JUN2019.txt\n",
      "RELIANCE_2JAN2019.txt\n",
      "RELIANCE_8FEB2019.txt\n",
      "RELIANCE_29MAY2019.txt\n",
      "RELIANCE_18APR2019.txt\n",
      "RELIANCE_25NOV2019.txt\n",
      "RELIANCE_5MAR2019.txt\n",
      "RELIANCE_1OCT2019.txt\n",
      "RELIANCE_18DEC2019.txt\n",
      "RELIANCE_4DEC2019.txt\n",
      "RELIANCE_14FEB2019.txt\n",
      "RELIANCE_29JAN2019.txt\n",
      "RELIANCE_29AUG2019.txt\n",
      "RELIANCE_19MAR2019.txt\n",
      "RELIANCE_27SEP2019.txt\n",
      "RELIANCE_2MAY2019.txt\n",
      "RELIANCE_4APR2019.txt\n",
      "RELIANCE_22APR2019.txt\n",
      "RELIANCE_13MAY2019.txt\n",
      "RELIANCE_24MAY2019.txt\n",
      "RELIANCE_15APR2019.txt\n",
      "RELIANCE_28NOV2019.txt\n",
      "RELIANCE_8MAR2019.txt\n",
      "RELIANCE_5FEB2019.txt\n",
      "RELIANCE_14MAR2019.txt\n",
      "RELIANCE_11JUL2019.txt\n",
      "RELIANCE_26JUL2019.txt\n",
      "RELIANCE_9APR2019.txt\n",
      "RELIANCE_19FEB2019.txt\n",
      "RELIANCE_24JAN2019.txt\n",
      "RELIANCE_7JUN2019.txt\n",
      "RELIANCE_13AUG2019.txt\n",
      "RELIANCE_9DEC2019.txt\n",
      "RELIANCE_10OCT2019.txt\n",
      "RELIANCE_27OCT2019.txt\n",
      "RELIANCE_4SEP2019.txt\n",
      "RELIANCE_21MAY2019.txt\n",
      "RELIANCE_10APR2019.txt\n",
      "RELIANCE_8JUL2019.txt\n",
      "RELIANCE_16MAY2019.txt\n",
      "RELIANCE_10DEC2019.txt\n",
      "RELIANCE_27DEC2019.txt\n",
      "RELIANCE_9OCT2019.txt\n",
      "RELIANCE_22OCT2019.txt\n",
      "RELIANCE_15OCT2019.txt\n",
      "RELIANCE_23JUL2019.txt\n",
      "RELIANCE_11MAR2019.txt\n",
      "RELIANCE_6NOV2019.txt\n",
      "RELIANCE_18SEP2019.txt\n",
      "RELIANCE_26MAR2019.txt\n",
      "RELIANCE_21AUG2019.txt\n",
      "RELIANCE_16AUG2019.txt\n",
      "RELIANCE_21JAN2019.txt\n",
      "RELIANCE_16JAN2019.txt\n",
      "RELIANCE_30JAN2019.txt\n",
      "RELIANCE_30AUG2019.txt\n",
      "RELIANCE_4OCT2019.txt\n",
      "RELIANCE_13JUN2019.txt\n",
      "RELIANCE_24JUN2019.txt\n",
      "RELIANCE_7JAN2019.txt\n",
      "RELIANCE_7AUG2019.txt\n",
      "RELIANCE_9SEP2019.txt\n",
      "RELIANCE_20NOV2019.txt\n",
      "RELIANCE_5JUL2019.txt\n",
      "RELIANCE_26FEB2019.txt\n",
      "RELIANCE_11FEB2019.txt\n",
      "RELIANCE_1APR2019.txt\n",
      "RELIANCE_7MAY2019.txt\n",
      "RELIANCE_19JUL2019.txt\n",
      "RELIANCE_18OCT2019.txt\n",
      "RELIANCE_30MAY2019.txt\n",
      "RELIANCE_17JUL2019.txt\n",
      "RELIANCE_9MAY2019.txt\n",
      "RELIANCE_25MAR2019.txt\n",
      "RELIANCE_5NOV2019.txt\n",
      "RELIANCE_12MAR2019.txt\n",
      "RELIANCE_22AUG2019.txt\n",
      "RELIANCE_15JAN2019.txt\n",
      "RELIANCE_22JAN2019.txt\n",
      "RELIANCE_28FEB2019.txt\n",
      "RELIANCE_16OCT2019.txt\n",
      "RELIANCE_30SEP2019.txt\n",
      "RELIANCE_24DEC2019.txt\n",
      "RELIANCE_13DEC2019.txt\n",
      "RELIANCE_19NOV2019.txt\n",
      "RELIANCE_24APR2019.txt\n",
      "RELIANCE_15MAY2019.txt\n",
      "RELIANCE_22MAY2019.txt\n",
      "RELIANCE_9JAN2019.txt\n",
      "RELIANCE_9AUG2019.txt\n",
      "RELIANCE_2DEC2019.txt\n",
      "RELIANCE_18JAN2019.txt\n",
      "RELIANCE_12FEB2019.txt\n",
      "RELIANCE_25FEB2019.txt\n",
      "RELIANCE_2APR2019.txt\n",
      "RELIANCE_16SEP2019.txt\n",
      "RELIANCE_28MAR2019.txt\n",
      "RELIANCE_8NOV2019.txt\n",
      "RELIANCE_27JUN2019.txt\n",
      "RELIANCE_4JAN2019.txt\n",
      "RELIANCE_10JUN2019.txt\n",
      "RELIANCE_30OCT2019.txt\n",
      "RELIANCE_14NOV2019.txt\n",
      "RELIANCE_7OCT2019.txt\n",
      "RELIANCE_31JUL2019.txt\n",
      "RELIANCE_30DEC2019.txt\n",
      "RELIANCE_20FEB2019.txt\n",
      "RELIANCE_24SEP2019.txt\n",
      "RELIANCE_13SEP2019.txt\n",
      "RELIANCE_29OCT2019.txt\n",
      "RELIANCE_30APR2019.txt\n",
      "RELIANCE_1AUG2019.txt\n",
      "RELIANCE_1JAN2019.txt\n",
      "RELIANCE_3JUL2019.txt\n",
      "RELIANCE_6MAR2019.txt\n",
      "RELIANCE_11NOV2019.txt\n",
      "RELIANCE_26NOV2019.txt\n",
      "RELIANCE_24OCT2019.txt\n",
      "RELIANCE_20MAR2019.txt\n",
      "RELIANCE_25JUL2019.txt\n",
      "RELIANCE_12JUL2019.txt\n",
      "RELIANCE_4JUN2019.txt\n",
      "RELIANCE_10JAN2019.txt\n",
      "RELIANCE_27AUG2019.txt\n",
      "RELIANCE_27MAY2019.txt\n",
      "RELIANCE_16APR2019.txt\n",
      "RELIANCE_10MAY2019.txt\n",
      "RELIANCE_18JUN2019.txt\n",
      "RELIANCE_6FEB2019.txt\n",
      "RELIANCE_16DEC2019.txt\n",
      "RELIANCE_11DEC2019.txt\n",
      "RELIANCE_26DEC2019.txt\n",
      "RELIANCE_5SEP2019.txt\n",
      "RELIANCE_11APR2019.txt\n",
      "RELIANCE_20MAY2019.txt\n",
      "RELIANCE_17MAY2019.txt\n",
      "RELIANCE_9JUL2019.txt\n",
      "RELIANCE_26APR2019.txt\n",
      "RELIANCE_1FEB2019.txt\n",
      "RELIANCE_28JUN2019.txt\n",
      "RELIANCE_22JUL2019.txt\n",
      "RELIANCE_15JUL2019.txt\n",
      "RELIANCE_7NOV2019.txt\n",
      "RELIANCE_27MAR2019.txt\n",
      "RELIANCE_19SEP2019.txt\n",
      "RELIANCE_20AUG2019.txt\n",
      "RELIANCE_3JUN2019.txt\n",
      "RELIANCE_17JAN2019.txt\n",
      "RELIANCE_23OCT2019.txt\n",
      "RELIANCE_14OCT2019.txt\n",
      "RELIANCE_12JUN2019.txt\n",
      "RELIANCE_25JUN2019.txt\n",
      "RELIANCE_6AUG2019.txt\n",
      "RELIANCE_1MAR2019.txt\n",
      "RELIANCE_21NOV2019.txt\n",
      "RELIANCE_4JUL2019.txt\n",
      "RELIANCE_31JAN2019.txt\n",
      "RELIANCE_31MAY2019.txt\n",
      "RELIANCE_27FEB2019.txt\n",
      "RELIANCE_18JUL2019.txt\n",
      "RELIANCE_6MAY2019.txt\n",
      "RELIANCE_23SEP2019.txt\n",
      "RELIANCE_19DEC2019.txt\n",
      "RELIANCE_3JAN2019.txt\n",
      "RELIANCE_20JUN2019.txt\n",
      "RELIANCE_17JUN2019.txt\n",
      "RELIANCE_1JUL2019.txt\n",
      "RELIANCE_28MAY2019.txt\n",
      "RELIANCE_13NOV2019.txt\n",
      "RELIANCE_15FEB2019.txt\n",
      "RELIANCE_28JAN2019.txt\n",
      "RELIANCE_22FEB2019.txt\n",
      "RELIANCE_28AUG2019.txt\n",
      "RELIANCE_11SEP2019.txt\n",
      "RELIANCE_26SEP2019.txt\n",
      "RELIANCE_18MAR2019.txt\n",
      "RELIANCE_3MAY2019.txt\n",
      "RELIANCE_5APR2019.txt\n",
      "RELIANCE_5DEC2019.txt\n",
      "RELIANCE_23APR2019.txt\n",
      "RELIANCE_29NOV2019.txt\n",
      "RELIANCE_4FEB2019.txt\n",
      "RELIANCE_23DEC2019.txt\n",
      "RELIANCE_11OCT2019.txt\n",
      "RELIANCE_22MAR2019.txt\n",
      "RELIANCE_15MAR2019.txt\n",
      "RELIANCE_10JUL2019.txt\n",
      "RELIANCE_8APR2019.txt\n",
      "RELIANCE_18FEB2019.txt\n",
      "RELIANCE_6JUN2019.txt\n",
      "RELIANCE_25JAN2019.txt\n"
     ]
    }
   ],
   "source": [
    "\n",
    "for item in os.listdir(os.path.join(os.path.join(outputpath, \"2019\"), \"RELIANCE\")):\n",
    "    print(item)"
   ]
  },
  {
   "cell_type": "code",
   "execution_count": 15,
   "metadata": {},
   "outputs": [
    {
     "data": {
      "text/plain": [
       "['2019', '2020', '2018']"
      ]
     },
     "execution_count": 15,
     "metadata": {},
     "output_type": "execute_result"
    }
   ],
   "source": [
    "os.listdir(outputpath)"
   ]
  },
  {
   "cell_type": "code",
   "execution_count": 16,
   "metadata": {},
   "outputs": [
    {
     "data": {
      "text/plain": [
       "True"
      ]
     },
     "execution_count": 16,
     "metadata": {},
     "output_type": "execute_result"
    }
   ],
   "source": [
    "os.path.isdir(os.path.join(outputpath, item))"
   ]
  },
  {
   "cell_type": "code",
   "execution_count": null,
   "metadata": {},
   "outputs": [],
   "source": []
  }
 ],
 "metadata": {
  "kernelspec": {
   "display_name": "Python(porto)",
   "language": "python",
   "name": "porto"
  },
  "language_info": {
   "codemirror_mode": {
    "name": "ipython",
    "version": 3
   },
   "file_extension": ".py",
   "mimetype": "text/x-python",
   "name": "python",
   "nbconvert_exporter": "python",
   "pygments_lexer": "ipython3",
   "version": "3.6.13"
  }
 },
 "nbformat": 4,
 "nbformat_minor": 2
}
